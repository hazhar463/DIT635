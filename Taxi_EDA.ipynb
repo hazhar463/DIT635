{
 "cells": [
  {
   "cell_type": "code",
   "execution_count": null,
   "metadata": {},
   "outputs": [],
   "source": [
    "import pandas as pd\n",
    "import matplotlib.pyplot as plt\n",
    "import seaborn as sns\n",
    "import matplotlib\n",
    "matplotlib.use('TkAgg') \n",
    "\n",
    "# Load the dataset and specify data types or handle mixed data types\n",
    "df = pd.read_csv('/Users/andre-chancegoddard/Downloads/Taxi_Datset.csv', dtype={'VendorID': str}, low_memory=False)\n",
    "\n",
    "# Convert datetime fields and specify the format directly to avoid parsing errors\n",
    "df['tpep_pickup_datetime'] = pd.to_datetime(df['tpep_pickup_datetime'], format='%m/%d/%Y %I:%M:%S %p')\n",
    "df['tpep_dropoff_datetime'] = pd.to_datetime(df['tpep_dropoff_datetime'], format='%m/%d/%Y %I:%M:%S %p')\n",
    "\n",
    "# Calculate trip duration in minutes and extract hour of day\n",
    "df['trip_duration'] = (df['tpep_dropoff_datetime'] - df['tpep_pickup_datetime']).dt.total_seconds() / 60\n",
    "df['hour_of_day'] = df['tpep_pickup_datetime'].dt.hour\n",
    "\n",
    "# Filtering to avoid erroneous data\n",
    "df = df[df['trip_duration'] > 0]  # Assuming only positive trip durations are valid\n",
    "\n",
    "# Plotting trip duration by hour of day\n",
    "plt.figure(figsize=(12, 6))\n",
    "sns.lineplot(x='hour_of_day', y='trip_duration', data=df)\n",
    "plt.title('Average Trip Duration by Hour of Day')\n",
    "plt.xlabel('Hour of Day')\n",
    "plt.ylabel('Average Trip Duration (minutes)')\n",
    "plt.grid(True)\n",
    "plt.show()\n",
    "\n",
    "# Plotting congestion charge by time of day\n",
    "plt.figure(figsize=(12, 6))\n",
    "sns.barplot(x='hour_of_day', y='congestion_surcharge', data=df, estimator=sum)\n",
    "plt.title('Total Congestion Surcharge by Hour of Day')\n",
    "plt.xlabel('Hour of Day')\n",
    "plt.ylabel('Total Congestion Surcharge ($)')\n",
    "plt.grid(True)\n",
    "plt.show()"
   ]
  }
 ],
 "metadata": {
  "language_info": {
   "name": "python"
  }
 },
 "nbformat": 4,
 "nbformat_minor": 2
}
