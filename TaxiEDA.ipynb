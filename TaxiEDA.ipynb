import pandas as pd
import matplotlib.pyplot as plt
import seaborn as sns
import matplotlib
matplotlib.use('TkAgg') 

# Load the dataset and specify data types or handle mixed data types
df = pd.read_csv('/Users/andre-chancegoddard/Downloads/Taxi_Datset.csv', dtype={'VendorID': str}, low_memory=False)

# Convert datetime fields and specify the format directly to avoid parsing errors
df['tpep_pickup_datetime'] = pd.to_datetime(df['tpep_pickup_datetime'], format='%m/%d/%Y %I:%M:%S %p')
df['tpep_dropoff_datetime'] = pd.to_datetime(df['tpep_dropoff_datetime'], format='%m/%d/%Y %I:%M:%S %p')

# Calculate trip duration in minutes and extract hour of day
df['trip_duration'] = (df['tpep_dropoff_datetime'] - df['tpep_pickup_datetime']).dt.total_seconds() / 60
df['hour_of_day'] = df['tpep_pickup_datetime'].dt.hour

# Filtering to avoid erroneous data
df = df[df['trip_duration'] > 0]  # Assuming only positive trip durations are valid

# Plotting trip duration by hour of day
plt.figure(figsize=(12, 6))
sns.lineplot(x='hour_of_day', y='trip_duration', data=df)
plt.title('Average Trip Duration by Hour of Day')
plt.xlabel('Hour of Day')
plt.ylabel('Average Trip Duration (minutes)')
plt.grid(True)
plt.show()

# Plotting congestion charge by time of day
plt.figure(figsize=(12, 6))
sns.barplot(x='hour_of_day', y='congestion_surcharge', data=df, estimator=sum)
plt.title('Total Congestion Surcharge by Hour of Day')
plt.xlabel('Hour of Day')
plt.ylabel('Total Congestion Surcharge ($)')
plt.grid(True)
plt.show()
