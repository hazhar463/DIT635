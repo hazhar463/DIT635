{
 "cells": [
  {
   "cell_type": "code",
   "execution_count": 1,
   "metadata": {
    "_cell_guid": "b1076dfc-b9ad-4769-8c92-a6c4dae69d19",
    "_uuid": "8f2839f25d086af736a60e9eeb907d3b93b6e0e5",
    "execution": {
     "iopub.execute_input": "2024-05-19T19:52:55.180511Z",
     "iopub.status.busy": "2024-05-19T19:52:55.179445Z",
     "iopub.status.idle": "2024-05-19T19:52:55.652161Z",
     "shell.execute_reply": "2024-05-19T19:52:55.650980Z",
     "shell.execute_reply.started": "2024-05-19T19:52:55.180471Z"
    }
   },
   "outputs": [],
   "source": [
    "# This Python 3 environment comes with many helpful analytics libraries installed\n",
    "# It is defined by the kaggle/python Docker image: https://github.com/kaggle/docker-python\n",
    "# For example, here's several helpful packages to load\n",
    "\n",
    "import numpy as np # linear algebra\n",
    "import pandas as pd # data processing, CSV file I/O (e.g. pd.read_csv)\n",
    "\n",
    "# Input data files are available in the read-only \"../input/\" directory\n",
    "# For example, running this (by clicking run or pressing Shift+Enter) will list all files under the input directory\n",
    "\n",
    "#import os\n",
    "#for dirname, _, filenames in os.walk('/kaggle/input/'):\n",
    " #   for filename in filenames:\n",
    "  #      print(os.path.join(dirname, filename))\n",
    "\n",
    "# You can write up to 20GB to the current directory (/kaggle/working/) that gets preserved as output when you create a version using \"Save & Run All\" \n",
    "# You can also write temporary files to /kaggle/temp/, but they won't be saved outside of the current session"
   ]
  },
  {
   "cell_type": "code",
   "execution_count": 2,
   "metadata": {},
   "outputs": [
    {
     "name": "stdout",
     "output_type": "stream",
     "text": [
      "  tpep_pickup_datetime  VendorID tpep_dropoff_datetime  passenger_count  \\\n",
      "0  2022-01-01 00:00:08         2   2022-01-01 00:14:14              1.0   \n",
      "1  2022-01-01 00:00:11         2   2022-01-01 00:14:29              1.0   \n",
      "2  2022-01-01 00:00:17         2   2022-01-01 00:31:04              1.0   \n",
      "3  2022-01-01 00:00:18         2   2022-01-01 00:13:27              1.0   \n",
      "4  2022-01-01 00:00:20         2   2022-01-01 00:20:51              1.0   \n",
      "\n",
      "   trip_distance  RatecodeID store_and_fwd_flag  PULocationID  DOLocationID  \\\n",
      "0           7.94         1.0                  N           138           255   \n",
      "1           5.55         1.0                  N           132           215   \n",
      "2           3.86         1.0                  N           170            68   \n",
      "3           3.37         1.0                  N            79           209   \n",
      "4           4.89         1.0                  N            68           256   \n",
      "\n",
      "   payment_type  fare_amount  extra  mta_tax  tip_amount  tolls_amount  \\\n",
      "0             1         23.0    0.5      0.5        4.86           0.0   \n",
      "1             2         17.5    0.5      0.5        0.00           0.0   \n",
      "2             1         20.0    0.5      0.5        4.76           0.0   \n",
      "3             1         13.0    0.5      0.5        3.36           0.0   \n",
      "4             1         18.0    0.5      0.5        6.54           0.0   \n",
      "\n",
      "   improvement_surcharge  total_amount  congestion_surcharge  airport_fee  \n",
      "0                    0.3         30.41                   0.0         1.25  \n",
      "1                    0.3         20.05                   0.0         1.25  \n",
      "2                    0.3         28.56                   2.5         0.00  \n",
      "3                    0.3         20.16                   2.5         0.00  \n",
      "4                    0.3         28.34                   2.5         0.00  \n"
     ]
    }
   ],
   "source": [
    "import pandas as pd\n",
    "import os\n",
    "\n",
    "# Specify the directory containing the CSV files\n",
    "directory_path = 'C://Users//skeshavaiah//Downloads//TaxiDataset//'\n",
    "\n",
    "# List to store DataFrames\n",
    "dataframes = []\n",
    "\n",
    "# Iterate over all files in the specified directory\n",
    "for filename in os.listdir(directory_path):\n",
    "    if filename.endswith('.csv'):\n",
    "        file_path = os.path.join(directory_path, filename)\n",
    "        # Read the CSV file into a DataFrame\n",
    "        df = pd.read_csv(file_path)\n",
    "        # Append the DataFrame to the list\n",
    "        dataframes.append(df)\n",
    "\n",
    "# Concatenate all DataFrames in the list into a single DataFrame\n",
    "merged_df = pd.concat(dataframes, ignore_index=True)\n",
    "\n",
    "# Display the first few rows of the merged DataFrame\n",
    "print(merged_df.head())"
   ]
  },
  {
   "cell_type": "code",
   "execution_count": 3,
   "metadata": {
    "execution": {
     "iopub.execute_input": "2024-05-19T19:52:58.457416Z",
     "iopub.status.busy": "2024-05-19T19:52:58.456868Z",
     "iopub.status.idle": "2024-05-19T19:53:46.613626Z",
     "shell.execute_reply": "2024-05-19T19:53:46.612655Z",
     "shell.execute_reply.started": "2024-05-19T19:52:58.457382Z"
    }
   },
   "outputs": [],
   "source": [
    "# Read the input data to dataframe\n",
    "# read data\n",
    "taxidf = merged_df"
   ]
  },
  {
   "cell_type": "code",
   "execution_count": 4,
   "metadata": {
    "execution": {
     "iopub.execute_input": "2024-05-19T04:42:18.439306Z",
     "iopub.status.busy": "2024-05-19T04:42:18.438904Z",
     "iopub.status.idle": "2024-05-19T04:42:18.445192Z",
     "shell.execute_reply": "2024-05-19T04:42:18.443959Z",
     "shell.execute_reply.started": "2024-05-19T04:42:18.439275Z"
    }
   },
   "outputs": [
    {
     "name": "stdout",
     "output_type": "stream",
     "text": [
      "(38287234, 19)\n"
     ]
    }
   ],
   "source": [
    "print(taxidf.shape)"
   ]
  },
  {
   "cell_type": "code",
   "execution_count": 5,
   "metadata": {
    "execution": {
     "iopub.execute_input": "2024-05-19T04:42:23.216957Z",
     "iopub.status.busy": "2024-05-19T04:42:23.215760Z",
     "iopub.status.idle": "2024-05-19T04:42:26.073627Z",
     "shell.execute_reply": "2024-05-19T04:42:26.071763Z",
     "shell.execute_reply.started": "2024-05-19T04:42:23.216912Z"
    }
   },
   "outputs": [
    {
     "name": "stdout",
     "output_type": "stream",
     "text": [
      "Categorical columns: ['tpep_pickup_datetime', 'tpep_dropoff_datetime', 'store_and_fwd_flag']\n",
      "Numerical columns: ['VendorID', 'passenger_count', 'trip_distance', 'RatecodeID', 'PULocationID', 'DOLocationID', 'payment_type', 'fare_amount', 'extra', 'mta_tax', 'tip_amount', 'tolls_amount', 'improvement_surcharge', 'total_amount', 'congestion_surcharge', 'airport_fee']\n"
     ]
    }
   ],
   "source": [
    "# List Categorical Columns\n",
    "categorical_columns = taxidf.select_dtypes(include=['object', 'category', 'bool']).columns.tolist()\n",
    "print(\"Categorical columns:\", categorical_columns)\n",
    "\n",
    "# List Numerical Columns\n",
    "numerical_columns = taxidf.select_dtypes(include=['number']).columns.tolist()\n",
    "print(\"Numerical columns:\", numerical_columns)"
   ]
  },
  {
   "cell_type": "code",
   "execution_count": 6,
   "metadata": {
    "execution": {
     "iopub.execute_input": "2024-05-19T04:42:28.186396Z",
     "iopub.status.busy": "2024-05-19T04:42:28.185519Z",
     "iopub.status.idle": "2024-05-19T04:42:29.168885Z",
     "shell.execute_reply": "2024-05-19T04:42:29.167791Z",
     "shell.execute_reply.started": "2024-05-19T04:42:28.186325Z"
    }
   },
   "outputs": [
    {
     "name": "stdout",
     "output_type": "stream",
     "text": [
      "Unique values in 'store_and_fwd_flag' column: ['N' 'Y']\n",
      "Unique values in 'VendorID' column: [2 1]\n"
     ]
    }
   ],
   "source": [
    "uniquesf = taxidf['store_and_fwd_flag'].unique()\n",
    "print(\"Unique values in 'store_and_fwd_flag' column:\", uniquesf)\n",
    "\n",
    "uniqueVD = taxidf['VendorID'].unique()\n",
    "print(\"Unique values in 'VendorID' column:\", uniqueVD)"
   ]
  },
  {
   "cell_type": "code",
   "execution_count": 7,
   "metadata": {
    "execution": {
     "iopub.execute_input": "2024-05-19T04:42:30.964538Z",
     "iopub.status.busy": "2024-05-19T04:42:30.964148Z",
     "iopub.status.idle": "2024-05-19T04:42:30.987962Z",
     "shell.execute_reply": "2024-05-19T04:42:30.986766Z",
     "shell.execute_reply.started": "2024-05-19T04:42:30.964509Z"
    }
   },
   "outputs": [
    {
     "name": "stdout",
     "output_type": "stream",
     "text": [
      "tpep_pickup_datetime\n",
      "VendorID\n",
      "tpep_dropoff_datetime\n",
      "passenger_count\n",
      "trip_distance\n",
      "RatecodeID\n",
      "store_and_fwd_flag\n",
      "PULocationID\n",
      "DOLocationID\n",
      "payment_type\n",
      "fare_amount\n",
      "extra\n",
      "mta_tax\n",
      "tip_amount\n",
      "tolls_amount\n",
      "improvement_surcharge\n",
      "total_amount\n",
      "congestion_surcharge\n",
      "airport_fee\n",
      "  tpep_pickup_datetime  VendorID tpep_dropoff_datetime  passenger_count  \\\n",
      "0  2022-01-01 00:00:08         2   2022-01-01 00:14:14              1.0   \n",
      "1  2022-01-01 00:00:11         2   2022-01-01 00:14:29              1.0   \n",
      "2  2022-01-01 00:00:17         2   2022-01-01 00:31:04              1.0   \n",
      "3  2022-01-01 00:00:18         2   2022-01-01 00:13:27              1.0   \n",
      "4  2022-01-01 00:00:20         2   2022-01-01 00:20:51              1.0   \n",
      "\n",
      "   trip_distance  RatecodeID store_and_fwd_flag  PULocationID  DOLocationID  \\\n",
      "0           7.94         1.0                  N           138           255   \n",
      "1           5.55         1.0                  N           132           215   \n",
      "2           3.86         1.0                  N           170            68   \n",
      "3           3.37         1.0                  N            79           209   \n",
      "4           4.89         1.0                  N            68           256   \n",
      "\n",
      "   payment_type  fare_amount  extra  mta_tax  tip_amount  tolls_amount  \\\n",
      "0             1         23.0    0.5      0.5        4.86           0.0   \n",
      "1             2         17.5    0.5      0.5        0.00           0.0   \n",
      "2             1         20.0    0.5      0.5        4.76           0.0   \n",
      "3             1         13.0    0.5      0.5        3.36           0.0   \n",
      "4             1         18.0    0.5      0.5        6.54           0.0   \n",
      "\n",
      "   improvement_surcharge  total_amount  congestion_surcharge  airport_fee  \n",
      "0                    0.3         30.41                   0.0         1.25  \n",
      "1                    0.3         20.05                   0.0         1.25  \n",
      "2                    0.3         28.56                   2.5         0.00  \n",
      "3                    0.3         20.16                   2.5         0.00  \n",
      "4                    0.3         28.34                   2.5         0.00  \n"
     ]
    }
   ],
   "source": [
    "# print columns in train data\n",
    "for col in taxidf.columns:\n",
    "    print(col)\n",
    "    \n",
    "print(taxidf.head())"
   ]
  },
  {
   "cell_type": "code",
   "execution_count": 8,
   "metadata": {
    "execution": {
     "iopub.execute_input": "2024-05-19T04:42:35.527722Z",
     "iopub.status.busy": "2024-05-19T04:42:35.527323Z",
     "iopub.status.idle": "2024-05-19T04:42:43.980942Z",
     "shell.execute_reply": "2024-05-19T04:42:43.979815Z",
     "shell.execute_reply.started": "2024-05-19T04:42:35.527693Z"
    }
   },
   "outputs": [
    {
     "data": {
      "text/html": [
       "<div>\n",
       "<style scoped>\n",
       "    .dataframe tbody tr th:only-of-type {\n",
       "        vertical-align: middle;\n",
       "    }\n",
       "\n",
       "    .dataframe tbody tr th {\n",
       "        vertical-align: top;\n",
       "    }\n",
       "\n",
       "    .dataframe thead th {\n",
       "        text-align: right;\n",
       "    }\n",
       "</style>\n",
       "<table border=\"1\" class=\"dataframe\">\n",
       "  <thead>\n",
       "    <tr style=\"text-align: right;\">\n",
       "      <th></th>\n",
       "      <th>VendorID</th>\n",
       "      <th>passenger_count</th>\n",
       "      <th>trip_distance</th>\n",
       "      <th>RatecodeID</th>\n",
       "      <th>PULocationID</th>\n",
       "      <th>DOLocationID</th>\n",
       "      <th>payment_type</th>\n",
       "      <th>fare_amount</th>\n",
       "      <th>extra</th>\n",
       "      <th>mta_tax</th>\n",
       "      <th>tip_amount</th>\n",
       "      <th>tolls_amount</th>\n",
       "      <th>improvement_surcharge</th>\n",
       "      <th>total_amount</th>\n",
       "      <th>congestion_surcharge</th>\n",
       "      <th>airport_fee</th>\n",
       "    </tr>\n",
       "  </thead>\n",
       "  <tbody>\n",
       "    <tr>\n",
       "      <th>count</th>\n",
       "      <td>3.828723e+07</td>\n",
       "      <td>3.828723e+07</td>\n",
       "      <td>3.828723e+07</td>\n",
       "      <td>3.828723e+07</td>\n",
       "      <td>3.828723e+07</td>\n",
       "      <td>3.828723e+07</td>\n",
       "      <td>3.828723e+07</td>\n",
       "      <td>3.828723e+07</td>\n",
       "      <td>3.828723e+07</td>\n",
       "      <td>3.828723e+07</td>\n",
       "      <td>3.828723e+07</td>\n",
       "      <td>3.828723e+07</td>\n",
       "      <td>3.828723e+07</td>\n",
       "      <td>3.828723e+07</td>\n",
       "      <td>3.828723e+07</td>\n",
       "      <td>3.828723e+07</td>\n",
       "    </tr>\n",
       "    <tr>\n",
       "      <th>mean</th>\n",
       "      <td>1.713152e+00</td>\n",
       "      <td>1.401150e+00</td>\n",
       "      <td>3.514389e+00</td>\n",
       "      <td>1.424169e+00</td>\n",
       "      <td>1.649293e+02</td>\n",
       "      <td>1.628564e+02</td>\n",
       "      <td>1.232055e+00</td>\n",
       "      <td>1.462754e+01</td>\n",
       "      <td>1.040996e+00</td>\n",
       "      <td>4.885380e-01</td>\n",
       "      <td>2.713916e+00</td>\n",
       "      <td>5.310518e-01</td>\n",
       "      <td>3.160881e-01</td>\n",
       "      <td>2.142366e+01</td>\n",
       "      <td>2.281446e+00</td>\n",
       "      <td>9.741803e-02</td>\n",
       "    </tr>\n",
       "    <tr>\n",
       "      <th>std</th>\n",
       "      <td>4.522899e-01</td>\n",
       "      <td>9.628956e-01</td>\n",
       "      <td>5.643287e+01</td>\n",
       "      <td>5.794383e+00</td>\n",
       "      <td>6.494457e+01</td>\n",
       "      <td>7.015704e+01</td>\n",
       "      <td>4.760783e-01</td>\n",
       "      <td>9.743202e+01</td>\n",
       "      <td>1.271074e+00</td>\n",
       "      <td>9.508112e-02</td>\n",
       "      <td>3.288832e+00</td>\n",
       "      <td>2.031156e+00</td>\n",
       "      <td>1.299794e-01</td>\n",
       "      <td>9.801421e+01</td>\n",
       "      <td>7.519297e-01</td>\n",
       "      <td>3.385367e-01</td>\n",
       "    </tr>\n",
       "    <tr>\n",
       "      <th>min</th>\n",
       "      <td>1.000000e+00</td>\n",
       "      <td>0.000000e+00</td>\n",
       "      <td>0.000000e+00</td>\n",
       "      <td>1.000000e+00</td>\n",
       "      <td>1.000000e+00</td>\n",
       "      <td>1.000000e+00</td>\n",
       "      <td>1.000000e+00</td>\n",
       "      <td>-2.564000e+03</td>\n",
       "      <td>-2.218000e+01</td>\n",
       "      <td>-5.500000e-01</td>\n",
       "      <td>-4.100000e+02</td>\n",
       "      <td>-9.999000e+01</td>\n",
       "      <td>-1.000000e+00</td>\n",
       "      <td>-2.567800e+03</td>\n",
       "      <td>-2.500000e+00</td>\n",
       "      <td>-1.250000e+00</td>\n",
       "    </tr>\n",
       "    <tr>\n",
       "      <th>25%</th>\n",
       "      <td>1.000000e+00</td>\n",
       "      <td>1.000000e+00</td>\n",
       "      <td>1.100000e+00</td>\n",
       "      <td>1.000000e+00</td>\n",
       "      <td>1.320000e+02</td>\n",
       "      <td>1.130000e+02</td>\n",
       "      <td>1.000000e+00</td>\n",
       "      <td>7.000000e+00</td>\n",
       "      <td>0.000000e+00</td>\n",
       "      <td>5.000000e-01</td>\n",
       "      <td>7.000000e-01</td>\n",
       "      <td>0.000000e+00</td>\n",
       "      <td>3.000000e-01</td>\n",
       "      <td>1.230000e+01</td>\n",
       "      <td>2.500000e+00</td>\n",
       "      <td>0.000000e+00</td>\n",
       "    </tr>\n",
       "    <tr>\n",
       "      <th>50%</th>\n",
       "      <td>2.000000e+00</td>\n",
       "      <td>1.000000e+00</td>\n",
       "      <td>1.860000e+00</td>\n",
       "      <td>1.000000e+00</td>\n",
       "      <td>1.620000e+02</td>\n",
       "      <td>1.620000e+02</td>\n",
       "      <td>1.000000e+00</td>\n",
       "      <td>1.000000e+01</td>\n",
       "      <td>5.000000e-01</td>\n",
       "      <td>5.000000e-01</td>\n",
       "      <td>2.150000e+00</td>\n",
       "      <td>0.000000e+00</td>\n",
       "      <td>3.000000e-01</td>\n",
       "      <td>1.595000e+01</td>\n",
       "      <td>2.500000e+00</td>\n",
       "      <td>0.000000e+00</td>\n",
       "    </tr>\n",
       "    <tr>\n",
       "      <th>75%</th>\n",
       "      <td>2.000000e+00</td>\n",
       "      <td>1.000000e+00</td>\n",
       "      <td>3.490000e+00</td>\n",
       "      <td>1.000000e+00</td>\n",
       "      <td>2.340000e+02</td>\n",
       "      <td>2.340000e+02</td>\n",
       "      <td>1.000000e+00</td>\n",
       "      <td>1.600000e+01</td>\n",
       "      <td>2.500000e+00</td>\n",
       "      <td>5.000000e-01</td>\n",
       "      <td>3.350000e+00</td>\n",
       "      <td>0.000000e+00</td>\n",
       "      <td>3.000000e-01</td>\n",
       "      <td>2.277000e+01</td>\n",
       "      <td>2.500000e+00</td>\n",
       "      <td>0.000000e+00</td>\n",
       "    </tr>\n",
       "    <tr>\n",
       "      <th>max</th>\n",
       "      <td>2.000000e+00</td>\n",
       "      <td>9.000000e+00</td>\n",
       "      <td>1.843408e+05</td>\n",
       "      <td>9.900000e+01</td>\n",
       "      <td>2.650000e+02</td>\n",
       "      <td>2.650000e+02</td>\n",
       "      <td>5.000000e+00</td>\n",
       "      <td>4.010923e+05</td>\n",
       "      <td>3.350000e+01</td>\n",
       "      <td>2.548000e+01</td>\n",
       "      <td>1.400160e+03</td>\n",
       "      <td>9.118700e+02</td>\n",
       "      <td>1.000000e+00</td>\n",
       "      <td>4.010956e+05</td>\n",
       "      <td>2.750000e+00</td>\n",
       "      <td>1.250000e+00</td>\n",
       "    </tr>\n",
       "  </tbody>\n",
       "</table>\n",
       "</div>"
      ],
      "text/plain": [
       "           VendorID  passenger_count  trip_distance    RatecodeID  \\\n",
       "count  3.828723e+07     3.828723e+07   3.828723e+07  3.828723e+07   \n",
       "mean   1.713152e+00     1.401150e+00   3.514389e+00  1.424169e+00   \n",
       "std    4.522899e-01     9.628956e-01   5.643287e+01  5.794383e+00   \n",
       "min    1.000000e+00     0.000000e+00   0.000000e+00  1.000000e+00   \n",
       "25%    1.000000e+00     1.000000e+00   1.100000e+00  1.000000e+00   \n",
       "50%    2.000000e+00     1.000000e+00   1.860000e+00  1.000000e+00   \n",
       "75%    2.000000e+00     1.000000e+00   3.490000e+00  1.000000e+00   \n",
       "max    2.000000e+00     9.000000e+00   1.843408e+05  9.900000e+01   \n",
       "\n",
       "       PULocationID  DOLocationID  payment_type   fare_amount         extra  \\\n",
       "count  3.828723e+07  3.828723e+07  3.828723e+07  3.828723e+07  3.828723e+07   \n",
       "mean   1.649293e+02  1.628564e+02  1.232055e+00  1.462754e+01  1.040996e+00   \n",
       "std    6.494457e+01  7.015704e+01  4.760783e-01  9.743202e+01  1.271074e+00   \n",
       "min    1.000000e+00  1.000000e+00  1.000000e+00 -2.564000e+03 -2.218000e+01   \n",
       "25%    1.320000e+02  1.130000e+02  1.000000e+00  7.000000e+00  0.000000e+00   \n",
       "50%    1.620000e+02  1.620000e+02  1.000000e+00  1.000000e+01  5.000000e-01   \n",
       "75%    2.340000e+02  2.340000e+02  1.000000e+00  1.600000e+01  2.500000e+00   \n",
       "max    2.650000e+02  2.650000e+02  5.000000e+00  4.010923e+05  3.350000e+01   \n",
       "\n",
       "            mta_tax    tip_amount  tolls_amount  improvement_surcharge  \\\n",
       "count  3.828723e+07  3.828723e+07  3.828723e+07           3.828723e+07   \n",
       "mean   4.885380e-01  2.713916e+00  5.310518e-01           3.160881e-01   \n",
       "std    9.508112e-02  3.288832e+00  2.031156e+00           1.299794e-01   \n",
       "min   -5.500000e-01 -4.100000e+02 -9.999000e+01          -1.000000e+00   \n",
       "25%    5.000000e-01  7.000000e-01  0.000000e+00           3.000000e-01   \n",
       "50%    5.000000e-01  2.150000e+00  0.000000e+00           3.000000e-01   \n",
       "75%    5.000000e-01  3.350000e+00  0.000000e+00           3.000000e-01   \n",
       "max    2.548000e+01  1.400160e+03  9.118700e+02           1.000000e+00   \n",
       "\n",
       "       total_amount  congestion_surcharge   airport_fee  \n",
       "count  3.828723e+07          3.828723e+07  3.828723e+07  \n",
       "mean   2.142366e+01          2.281446e+00  9.741803e-02  \n",
       "std    9.801421e+01          7.519297e-01  3.385367e-01  \n",
       "min   -2.567800e+03         -2.500000e+00 -1.250000e+00  \n",
       "25%    1.230000e+01          2.500000e+00  0.000000e+00  \n",
       "50%    1.595000e+01          2.500000e+00  0.000000e+00  \n",
       "75%    2.277000e+01          2.500000e+00  0.000000e+00  \n",
       "max    4.010956e+05          2.750000e+00  1.250000e+00  "
      ]
     },
     "execution_count": 8,
     "metadata": {},
     "output_type": "execute_result"
    }
   ],
   "source": [
    "taxidf.describe()"
   ]
  },
  {
   "cell_type": "code",
   "execution_count": 9,
   "metadata": {
    "execution": {
     "iopub.execute_input": "2024-05-19T04:42:43.983015Z",
     "iopub.status.busy": "2024-05-19T04:42:43.982683Z",
     "iopub.status.idle": "2024-05-19T04:42:44.672179Z",
     "shell.execute_reply": "2024-05-19T04:42:44.670959Z",
     "shell.execute_reply.started": "2024-05-19T04:42:43.982987Z"
    }
   },
   "outputs": [
    {
     "name": "stdout",
     "output_type": "stream",
     "text": [
      "   tpep_pickup_datetime tpep_dropoff_datetime store_and_fwd_flag\n",
      "0   2022-01-01 00:00:08   2022-01-01 00:14:14                  N\n",
      "1   2022-01-01 00:00:11   2022-01-01 00:14:29                  N\n",
      "2   2022-01-01 00:00:17   2022-01-01 00:31:04                  N\n",
      "3   2022-01-01 00:00:18   2022-01-01 00:13:27                  N\n",
      "4   2022-01-01 00:00:20   2022-01-01 00:20:51                  N\n",
      "5   2022-01-01 00:00:23   2022-01-01 00:24:06                  N\n",
      "6   2022-01-01 00:00:29   2022-01-01 00:06:52                  N\n",
      "7   2022-01-01 00:00:30   2022-01-01 00:10:18                  N\n",
      "8   2022-01-01 00:00:30   2022-01-01 00:20:31                  N\n",
      "9   2022-01-01 00:00:44   2022-01-01 00:08:54                  N\n",
      "10  2022-01-01 00:00:44   2022-01-01 00:05:29                  N\n",
      "11  2022-01-01 00:00:46   2022-01-01 00:28:44                  N\n",
      "12  2022-01-01 00:00:51   2022-01-01 00:07:30                  N\n",
      "13  2022-01-01 00:00:52   2022-01-01 00:09:51                  N\n",
      "14  2022-01-01 00:00:54   2022-01-01 00:11:33                  N\n",
      "15  2022-01-01 00:01:01   2022-01-01 00:11:05                  N\n",
      "16  2022-01-01 00:01:06   2022-01-01 00:11:43                  N\n",
      "17  2022-01-01 00:01:11   2022-01-01 00:13:47                  N\n",
      "18  2022-01-01 00:01:28   2022-01-01 00:20:28                  N\n",
      "19  2022-01-01 00:01:29   2022-01-01 00:09:34                  N\n",
      "20  2022-01-01 00:01:33   2022-01-01 00:01:46                  N\n",
      "21  2022-01-01 00:01:36   2022-01-01 00:01:42                  N\n",
      "22  2022-01-01 00:01:37   2022-01-01 00:24:02                  N\n",
      "23  2022-01-01 00:01:37   2022-01-01 00:07:22                  N\n",
      "24  2022-01-01 00:01:37   2022-01-01 00:36:29                  N\n",
      "25  2022-01-01 00:01:37   2022-01-01 00:16:29                  N\n",
      "26  2022-01-01 00:01:41   2022-01-01 00:05:16                  N\n",
      "27  2022-01-01 00:01:44   2022-01-01 00:13:12                  N\n",
      "28  2022-01-01 00:01:52   2022-01-01 00:18:29                  N\n",
      "29  2022-01-01 00:01:55   2022-01-01 00:07:39                  N\n",
      "30  2022-01-01 00:02:02   2022-01-01 00:12:14                  N\n",
      "31  2022-01-01 00:02:04   2022-01-01 00:15:00                  N\n",
      "32  2022-01-01 00:02:04   2022-01-01 00:15:32                  N\n",
      "33  2022-01-01 00:02:11   2022-01-01 00:16:12                  N\n",
      "34  2022-01-01 00:02:30   2022-01-01 00:04:57                  N\n",
      "35  2022-01-01 00:02:30   2022-01-01 00:14:45                  N\n",
      "36  2022-01-01 00:02:30   2022-01-01 00:19:30                  N\n",
      "37  2022-01-01 00:02:31   2022-01-01 00:31:53                  N\n",
      "38  2022-01-01 00:02:35   2022-01-01 00:08:00                  N\n",
      "39  2022-01-01 00:02:37   2022-01-01 00:29:47                  N\n",
      "40  2022-01-01 00:02:43   2022-01-01 00:09:49                  N\n",
      "41  2022-01-01 00:02:44   2022-01-01 00:14:53                  N\n",
      "42  2022-01-01 00:02:45   2022-01-01 00:15:42                  N\n",
      "43  2022-01-01 00:02:47   2022-01-01 00:10:39                  N\n",
      "44  2022-01-01 00:02:50   2022-01-01 00:18:50                  Y\n",
      "45  2022-01-01 00:02:55   2022-01-01 00:32:59                  N\n",
      "46  2022-01-01 00:03:00   2022-01-01 00:15:52                  N\n",
      "47  2022-01-01 00:03:03   2022-01-01 00:31:39                  N\n",
      "48  2022-01-01 00:03:20   2022-01-01 00:29:11                  N\n",
      "49  2022-01-01 00:03:20   2022-01-01 00:09:22                  N\n"
     ]
    }
   ],
   "source": [
    "# non-numerical variables\n",
    "taxidf_not_num = taxidf.select_dtypes(exclude = [np.number])\n",
    "print(taxidf_not_num.head(50))"
   ]
  },
  {
   "cell_type": "code",
   "execution_count": 11,
   "metadata": {
    "execution": {
     "iopub.execute_input": "2024-05-19T04:42:48.552101Z",
     "iopub.status.busy": "2024-05-19T04:42:48.551711Z",
     "iopub.status.idle": "2024-05-19T04:42:54.210920Z",
     "shell.execute_reply": "2024-05-19T04:42:54.209802Z",
     "shell.execute_reply.started": "2024-05-19T04:42:48.552068Z"
    }
   },
   "outputs": [
    {
     "data": {
      "text/plain": [
       "Series([], dtype: float64)"
      ]
     },
     "execution_count": 11,
     "metadata": {},
     "output_type": "execute_result"
    }
   ],
   "source": [
    "#columns with NA's\n",
    "na_cols = taxidf.columns[taxidf.isna().any()]\n",
    "\n",
    "for c in na_cols:\n",
    "    print(c + \"   \" + str(taxidf[c].dtype))\n",
    "\n",
    "# number of NA's per columns\n",
    "taxidf[na_cols].isna().sum()\n",
    "#taxidf[na_cols].isna().sum() / taxidf.shape[0] * 100 "
   ]
  },
  {
   "cell_type": "code",
   "execution_count": 12,
   "metadata": {
    "execution": {
     "iopub.execute_input": "2024-05-19T19:53:46.616081Z",
     "iopub.status.busy": "2024-05-19T19:53:46.615488Z",
     "iopub.status.idle": "2024-05-19T19:53:52.332048Z",
     "shell.execute_reply": "2024-05-19T19:53:52.330420Z",
     "shell.execute_reply.started": "2024-05-19T19:53:46.616049Z"
    }
   },
   "outputs": [],
   "source": [
    "# Drop rows with any missing values\n",
    "taxidf_cleaned = taxidf.dropna()"
   ]
  },
  {
   "cell_type": "code",
   "execution_count": 13,
   "metadata": {
    "execution": {
     "iopub.execute_input": "2024-05-19T04:42:57.765633Z",
     "iopub.status.busy": "2024-05-19T04:42:57.765304Z",
     "iopub.status.idle": "2024-05-19T04:43:04.199458Z",
     "shell.execute_reply": "2024-05-19T04:43:04.198195Z",
     "shell.execute_reply.started": "2024-05-19T04:42:57.765606Z"
    }
   },
   "outputs": [
    {
     "name": "stdout",
     "output_type": "stream",
     "text": [
      "(38287234, 19)\n"
     ]
    },
    {
     "data": {
      "text/html": [
       "<div>\n",
       "<style scoped>\n",
       "    .dataframe tbody tr th:only-of-type {\n",
       "        vertical-align: middle;\n",
       "    }\n",
       "\n",
       "    .dataframe tbody tr th {\n",
       "        vertical-align: top;\n",
       "    }\n",
       "\n",
       "    .dataframe thead th {\n",
       "        text-align: right;\n",
       "    }\n",
       "</style>\n",
       "<table border=\"1\" class=\"dataframe\">\n",
       "  <thead>\n",
       "    <tr style=\"text-align: right;\">\n",
       "      <th></th>\n",
       "      <th>VendorID</th>\n",
       "      <th>passenger_count</th>\n",
       "      <th>trip_distance</th>\n",
       "      <th>RatecodeID</th>\n",
       "      <th>PULocationID</th>\n",
       "      <th>DOLocationID</th>\n",
       "      <th>payment_type</th>\n",
       "      <th>fare_amount</th>\n",
       "      <th>extra</th>\n",
       "      <th>mta_tax</th>\n",
       "      <th>tip_amount</th>\n",
       "      <th>tolls_amount</th>\n",
       "      <th>improvement_surcharge</th>\n",
       "      <th>total_amount</th>\n",
       "      <th>congestion_surcharge</th>\n",
       "      <th>airport_fee</th>\n",
       "    </tr>\n",
       "  </thead>\n",
       "  <tbody>\n",
       "    <tr>\n",
       "      <th>count</th>\n",
       "      <td>3.828723e+07</td>\n",
       "      <td>3.828723e+07</td>\n",
       "      <td>3.828723e+07</td>\n",
       "      <td>3.828723e+07</td>\n",
       "      <td>3.828723e+07</td>\n",
       "      <td>3.828723e+07</td>\n",
       "      <td>3.828723e+07</td>\n",
       "      <td>3.828723e+07</td>\n",
       "      <td>3.828723e+07</td>\n",
       "      <td>3.828723e+07</td>\n",
       "      <td>3.828723e+07</td>\n",
       "      <td>3.828723e+07</td>\n",
       "      <td>3.828723e+07</td>\n",
       "      <td>3.828723e+07</td>\n",
       "      <td>3.828723e+07</td>\n",
       "      <td>3.828723e+07</td>\n",
       "    </tr>\n",
       "    <tr>\n",
       "      <th>mean</th>\n",
       "      <td>1.713152e+00</td>\n",
       "      <td>1.401150e+00</td>\n",
       "      <td>3.514389e+00</td>\n",
       "      <td>1.424169e+00</td>\n",
       "      <td>1.649293e+02</td>\n",
       "      <td>1.628564e+02</td>\n",
       "      <td>1.232055e+00</td>\n",
       "      <td>1.462754e+01</td>\n",
       "      <td>1.040996e+00</td>\n",
       "      <td>4.885380e-01</td>\n",
       "      <td>2.713916e+00</td>\n",
       "      <td>5.310518e-01</td>\n",
       "      <td>3.160881e-01</td>\n",
       "      <td>2.142366e+01</td>\n",
       "      <td>2.281446e+00</td>\n",
       "      <td>9.741803e-02</td>\n",
       "    </tr>\n",
       "    <tr>\n",
       "      <th>std</th>\n",
       "      <td>4.522899e-01</td>\n",
       "      <td>9.628956e-01</td>\n",
       "      <td>5.643287e+01</td>\n",
       "      <td>5.794383e+00</td>\n",
       "      <td>6.494457e+01</td>\n",
       "      <td>7.015704e+01</td>\n",
       "      <td>4.760783e-01</td>\n",
       "      <td>9.743202e+01</td>\n",
       "      <td>1.271074e+00</td>\n",
       "      <td>9.508112e-02</td>\n",
       "      <td>3.288832e+00</td>\n",
       "      <td>2.031156e+00</td>\n",
       "      <td>1.299794e-01</td>\n",
       "      <td>9.801421e+01</td>\n",
       "      <td>7.519297e-01</td>\n",
       "      <td>3.385367e-01</td>\n",
       "    </tr>\n",
       "    <tr>\n",
       "      <th>min</th>\n",
       "      <td>1.000000e+00</td>\n",
       "      <td>0.000000e+00</td>\n",
       "      <td>0.000000e+00</td>\n",
       "      <td>1.000000e+00</td>\n",
       "      <td>1.000000e+00</td>\n",
       "      <td>1.000000e+00</td>\n",
       "      <td>1.000000e+00</td>\n",
       "      <td>-2.564000e+03</td>\n",
       "      <td>-2.218000e+01</td>\n",
       "      <td>-5.500000e-01</td>\n",
       "      <td>-4.100000e+02</td>\n",
       "      <td>-9.999000e+01</td>\n",
       "      <td>-1.000000e+00</td>\n",
       "      <td>-2.567800e+03</td>\n",
       "      <td>-2.500000e+00</td>\n",
       "      <td>-1.250000e+00</td>\n",
       "    </tr>\n",
       "    <tr>\n",
       "      <th>25%</th>\n",
       "      <td>1.000000e+00</td>\n",
       "      <td>1.000000e+00</td>\n",
       "      <td>1.100000e+00</td>\n",
       "      <td>1.000000e+00</td>\n",
       "      <td>1.320000e+02</td>\n",
       "      <td>1.130000e+02</td>\n",
       "      <td>1.000000e+00</td>\n",
       "      <td>7.000000e+00</td>\n",
       "      <td>0.000000e+00</td>\n",
       "      <td>5.000000e-01</td>\n",
       "      <td>7.000000e-01</td>\n",
       "      <td>0.000000e+00</td>\n",
       "      <td>3.000000e-01</td>\n",
       "      <td>1.230000e+01</td>\n",
       "      <td>2.500000e+00</td>\n",
       "      <td>0.000000e+00</td>\n",
       "    </tr>\n",
       "    <tr>\n",
       "      <th>50%</th>\n",
       "      <td>2.000000e+00</td>\n",
       "      <td>1.000000e+00</td>\n",
       "      <td>1.860000e+00</td>\n",
       "      <td>1.000000e+00</td>\n",
       "      <td>1.620000e+02</td>\n",
       "      <td>1.620000e+02</td>\n",
       "      <td>1.000000e+00</td>\n",
       "      <td>1.000000e+01</td>\n",
       "      <td>5.000000e-01</td>\n",
       "      <td>5.000000e-01</td>\n",
       "      <td>2.150000e+00</td>\n",
       "      <td>0.000000e+00</td>\n",
       "      <td>3.000000e-01</td>\n",
       "      <td>1.595000e+01</td>\n",
       "      <td>2.500000e+00</td>\n",
       "      <td>0.000000e+00</td>\n",
       "    </tr>\n",
       "    <tr>\n",
       "      <th>75%</th>\n",
       "      <td>2.000000e+00</td>\n",
       "      <td>1.000000e+00</td>\n",
       "      <td>3.490000e+00</td>\n",
       "      <td>1.000000e+00</td>\n",
       "      <td>2.340000e+02</td>\n",
       "      <td>2.340000e+02</td>\n",
       "      <td>1.000000e+00</td>\n",
       "      <td>1.600000e+01</td>\n",
       "      <td>2.500000e+00</td>\n",
       "      <td>5.000000e-01</td>\n",
       "      <td>3.350000e+00</td>\n",
       "      <td>0.000000e+00</td>\n",
       "      <td>3.000000e-01</td>\n",
       "      <td>2.277000e+01</td>\n",
       "      <td>2.500000e+00</td>\n",
       "      <td>0.000000e+00</td>\n",
       "    </tr>\n",
       "    <tr>\n",
       "      <th>max</th>\n",
       "      <td>2.000000e+00</td>\n",
       "      <td>9.000000e+00</td>\n",
       "      <td>1.843408e+05</td>\n",
       "      <td>9.900000e+01</td>\n",
       "      <td>2.650000e+02</td>\n",
       "      <td>2.650000e+02</td>\n",
       "      <td>5.000000e+00</td>\n",
       "      <td>4.010923e+05</td>\n",
       "      <td>3.350000e+01</td>\n",
       "      <td>2.548000e+01</td>\n",
       "      <td>1.400160e+03</td>\n",
       "      <td>9.118700e+02</td>\n",
       "      <td>1.000000e+00</td>\n",
       "      <td>4.010956e+05</td>\n",
       "      <td>2.750000e+00</td>\n",
       "      <td>1.250000e+00</td>\n",
       "    </tr>\n",
       "  </tbody>\n",
       "</table>\n",
       "</div>"
      ],
      "text/plain": [
       "           VendorID  passenger_count  trip_distance    RatecodeID  \\\n",
       "count  3.828723e+07     3.828723e+07   3.828723e+07  3.828723e+07   \n",
       "mean   1.713152e+00     1.401150e+00   3.514389e+00  1.424169e+00   \n",
       "std    4.522899e-01     9.628956e-01   5.643287e+01  5.794383e+00   \n",
       "min    1.000000e+00     0.000000e+00   0.000000e+00  1.000000e+00   \n",
       "25%    1.000000e+00     1.000000e+00   1.100000e+00  1.000000e+00   \n",
       "50%    2.000000e+00     1.000000e+00   1.860000e+00  1.000000e+00   \n",
       "75%    2.000000e+00     1.000000e+00   3.490000e+00  1.000000e+00   \n",
       "max    2.000000e+00     9.000000e+00   1.843408e+05  9.900000e+01   \n",
       "\n",
       "       PULocationID  DOLocationID  payment_type   fare_amount         extra  \\\n",
       "count  3.828723e+07  3.828723e+07  3.828723e+07  3.828723e+07  3.828723e+07   \n",
       "mean   1.649293e+02  1.628564e+02  1.232055e+00  1.462754e+01  1.040996e+00   \n",
       "std    6.494457e+01  7.015704e+01  4.760783e-01  9.743202e+01  1.271074e+00   \n",
       "min    1.000000e+00  1.000000e+00  1.000000e+00 -2.564000e+03 -2.218000e+01   \n",
       "25%    1.320000e+02  1.130000e+02  1.000000e+00  7.000000e+00  0.000000e+00   \n",
       "50%    1.620000e+02  1.620000e+02  1.000000e+00  1.000000e+01  5.000000e-01   \n",
       "75%    2.340000e+02  2.340000e+02  1.000000e+00  1.600000e+01  2.500000e+00   \n",
       "max    2.650000e+02  2.650000e+02  5.000000e+00  4.010923e+05  3.350000e+01   \n",
       "\n",
       "            mta_tax    tip_amount  tolls_amount  improvement_surcharge  \\\n",
       "count  3.828723e+07  3.828723e+07  3.828723e+07           3.828723e+07   \n",
       "mean   4.885380e-01  2.713916e+00  5.310518e-01           3.160881e-01   \n",
       "std    9.508112e-02  3.288832e+00  2.031156e+00           1.299794e-01   \n",
       "min   -5.500000e-01 -4.100000e+02 -9.999000e+01          -1.000000e+00   \n",
       "25%    5.000000e-01  7.000000e-01  0.000000e+00           3.000000e-01   \n",
       "50%    5.000000e-01  2.150000e+00  0.000000e+00           3.000000e-01   \n",
       "75%    5.000000e-01  3.350000e+00  0.000000e+00           3.000000e-01   \n",
       "max    2.548000e+01  1.400160e+03  9.118700e+02           1.000000e+00   \n",
       "\n",
       "       total_amount  congestion_surcharge   airport_fee  \n",
       "count  3.828723e+07          3.828723e+07  3.828723e+07  \n",
       "mean   2.142366e+01          2.281446e+00  9.741803e-02  \n",
       "std    9.801421e+01          7.519297e-01  3.385367e-01  \n",
       "min   -2.567800e+03         -2.500000e+00 -1.250000e+00  \n",
       "25%    1.230000e+01          2.500000e+00  0.000000e+00  \n",
       "50%    1.595000e+01          2.500000e+00  0.000000e+00  \n",
       "75%    2.277000e+01          2.500000e+00  0.000000e+00  \n",
       "max    4.010956e+05          2.750000e+00  1.250000e+00  "
      ]
     },
     "execution_count": 13,
     "metadata": {},
     "output_type": "execute_result"
    }
   ],
   "source": [
    "print(taxidf_cleaned.shape)\n",
    "taxidf_cleaned.describe()"
   ]
  },
  {
   "cell_type": "code",
   "execution_count": 14,
   "metadata": {
    "execution": {
     "iopub.execute_input": "2024-05-19T04:43:07.062612Z",
     "iopub.status.busy": "2024-05-19T04:43:07.062184Z",
     "iopub.status.idle": "2024-05-19T04:43:07.721749Z",
     "shell.execute_reply": "2024-05-19T04:43:07.720336Z",
     "shell.execute_reply.started": "2024-05-19T04:43:07.062581Z"
    }
   },
   "outputs": [
    {
     "name": "stdout",
     "output_type": "stream",
     "text": [
      "Unique values in 'VendorID' column: [2 1]\n"
     ]
    }
   ],
   "source": [
    "uniqueVD = taxidf['VendorID'].unique()\n",
    "print(\"Unique values in 'VendorID' column:\", uniqueVD)"
   ]
  },
  {
   "cell_type": "code",
   "execution_count": 15,
   "metadata": {
    "execution": {
     "iopub.execute_input": "2024-05-19T19:54:14.471396Z",
     "iopub.status.busy": "2024-05-19T19:54:14.470934Z",
     "iopub.status.idle": "2024-05-19T19:54:15.150018Z",
     "shell.execute_reply": "2024-05-19T19:54:15.148686Z",
     "shell.execute_reply.started": "2024-05-19T19:54:14.471360Z"
    }
   },
   "outputs": [
    {
     "name": "stderr",
     "output_type": "stream",
     "text": [
      "<frozen importlib._bootstrap>:228: RuntimeWarning: scipy._lib.messagestream.MessageStream size changed, may indicate binary incompatibility. Expected 56 from C header, got 64 from PyObject\n"
     ]
    }
   ],
   "source": [
    "import seaborn as sns\n",
    "import matplotlib.pyplot as plt"
   ]
  },
  {
   "cell_type": "code",
   "execution_count": 17,
   "metadata": {
    "execution": {
     "iopub.execute_input": "2024-05-19T19:54:17.278477Z",
     "iopub.status.busy": "2024-05-19T19:54:17.275627Z",
     "iopub.status.idle": "2024-05-19T19:57:01.665985Z",
     "shell.execute_reply": "2024-05-19T19:57:01.664823Z",
     "shell.execute_reply.started": "2024-05-19T19:54:17.278422Z"
    }
   },
   "outputs": [],
   "source": [
    "taxidf_cleaned['tpep_pickup_datetime'] = pd.to_datetime(taxidf_cleaned['tpep_pickup_datetime'], format='%Y-%m-%d %H:%M:%S')\n",
    "taxidf_cleaned['tpep_dropoff_datetime'] = pd.to_datetime(taxidf_cleaned['tpep_dropoff_datetime'], format='%Y-%m-%d %H:%M:%S')"
   ]
  },
  {
   "cell_type": "code",
   "execution_count": 18,
   "metadata": {
    "execution": {
     "iopub.execute_input": "2024-05-19T04:44:52.123734Z",
     "iopub.status.busy": "2024-05-19T04:44:52.122395Z",
     "iopub.status.idle": "2024-05-19T04:44:54.666525Z",
     "shell.execute_reply": "2024-05-19T04:44:54.665403Z",
     "shell.execute_reply.started": "2024-05-19T04:44:52.123694Z"
    }
   },
   "outputs": [
    {
     "name": "stderr",
     "output_type": "stream",
     "text": [
      "C:\\Users\\skeshavaiah\\Anaconda3\\lib\\site-packages\\sklearn\\preprocessing\\_label.py:116: DataConversionWarning: A column-vector y was passed when a 1d array was expected. Please change the shape of y to (n_samples, ), for example using ravel().\n",
      "  y = column_or_1d(y, warn=True)\n"
     ]
    }
   ],
   "source": [
    "#label encoding\n",
    "from sklearn.preprocessing import LabelEncoder, MinMaxScaler\n",
    "le = LabelEncoder()\n",
    "taxidf_cleaned['store_and_fwd_flag'] = le.fit_transform(taxidf_cleaned[['store_and_fwd_flag']])"
   ]
  },
  {
   "cell_type": "code",
   "execution_count": 19,
   "metadata": {
    "execution": {
     "iopub.execute_input": "2024-05-19T19:59:48.216058Z",
     "iopub.status.busy": "2024-05-19T19:59:48.215598Z",
     "iopub.status.idle": "2024-05-19T19:59:48.556859Z",
     "shell.execute_reply": "2024-05-19T19:59:48.555700Z",
     "shell.execute_reply.started": "2024-05-19T19:59:48.216025Z"
    }
   },
   "outputs": [],
   "source": [
    "taxidf_cleaned['trip_duration'] = ((taxidf_cleaned['tpep_dropoff_datetime']-taxidf_cleaned['tpep_pickup_datetime']).dt.total_seconds()/60).round(2)"
   ]
  },
  {
   "cell_type": "code",
   "execution_count": 20,
   "metadata": {
    "execution": {
     "iopub.execute_input": "2024-05-19T19:59:51.672158Z",
     "iopub.status.busy": "2024-05-19T19:59:51.670991Z",
     "iopub.status.idle": "2024-05-19T19:59:51.735159Z",
     "shell.execute_reply": "2024-05-19T19:59:51.733977Z",
     "shell.execute_reply.started": "2024-05-19T19:59:51.672091Z"
    }
   },
   "outputs": [
    {
     "name": "stdout",
     "output_type": "stream",
     "text": [
      "9747.05\n",
      "-71759.93\n"
     ]
    }
   ],
   "source": [
    "print(taxidf_cleaned['trip_duration'].max())\n",
    "print(taxidf_cleaned['trip_duration'].min())"
   ]
  },
  {
   "cell_type": "code",
   "execution_count": 21,
   "metadata": {
    "execution": {
     "iopub.execute_input": "2024-05-19T04:52:20.537823Z",
     "iopub.status.busy": "2024-05-19T04:52:20.537439Z",
     "iopub.status.idle": "2024-05-19T04:52:20.587957Z",
     "shell.execute_reply": "2024-05-19T04:52:20.586833Z",
     "shell.execute_reply.started": "2024-05-19T04:52:20.537797Z"
    }
   },
   "outputs": [
    {
     "name": "stdout",
     "output_type": "stream",
     "text": [
      "Number of negative values in column 'trip_duration': 679\n",
      "         tpep_pickup_datetime  VendorID tpep_dropoff_datetime  \\\n",
      "1808947   2022-01-24 15:23:01         1   2022-01-22 06:00:37   \n",
      "2391883   2022-03-18 07:53:14         1   2022-01-27 11:53:18   \n",
      "6286552   2022-03-10 04:10:13         1   2022-03-10 04:10:12   \n",
      "6344162   2022-03-10 15:49:18         1   2022-03-10 15:49:17   \n",
      "9957347   2022-04-10 23:51:01         1   2022-04-10 00:14:41   \n",
      "...                       ...       ...                   ...   \n",
      "34152693  2022-11-22 09:09:00         1   2022-11-22 09:03:55   \n",
      "34154509  2022-11-22 09:29:00         1   2022-11-22 09:03:01   \n",
      "35619548  2022-12-06 08:15:00         1   2022-12-06 08:14:34   \n",
      "36622419  2022-12-14 16:00:00         1   2022-12-14 15:40:13   \n",
      "37491795  2022-12-22 09:45:00         1   2022-12-22 09:42:27   \n",
      "\n",
      "          passenger_count  trip_distance  RatecodeID  store_and_fwd_flag  \\\n",
      "1808947               1.0            4.7         1.0                   0   \n",
      "2391883               1.0            3.0         1.0                   0   \n",
      "6286552               1.0            0.0        99.0                   0   \n",
      "6344162               1.0            0.0        99.0                   0   \n",
      "9957347               1.0            2.6         1.0                   1   \n",
      "...                   ...            ...         ...                 ...   \n",
      "34152693              1.0            4.9        99.0                   0   \n",
      "34154509              1.0            0.9        99.0                   0   \n",
      "35619548              1.0            3.0        99.0                   0   \n",
      "36622419              1.0            3.4        99.0                   0   \n",
      "37491795              1.0            4.5        99.0                   0   \n",
      "\n",
      "          PULocationID  DOLocationID  payment_type  fare_amount  extra  \\\n",
      "1808947            140           152             4         17.0    3.0   \n",
      "2391883            236           100             1         22.0    2.5   \n",
      "6286552            264           265             1         49.2    0.0   \n",
      "6344162            264           132             1         31.2    0.0   \n",
      "9957347            233           211             1         15.5    2.5   \n",
      "...                ...           ...           ...          ...    ...   \n",
      "34152693            67           155             1         33.2    0.0   \n",
      "34154509            91           155             1         42.2    0.0   \n",
      "35619548            56           226             1         23.2    0.0   \n",
      "36622419           174            60             1         24.2    0.0   \n",
      "37491795           225            82             1         24.5    0.0   \n",
      "\n",
      "          mta_tax  tip_amount  tolls_amount  improvement_surcharge  \\\n",
      "1808947       0.5        0.00           0.0                    0.3   \n",
      "2391883       0.5        6.30           0.0                    0.3   \n",
      "6286552       0.5        0.00           0.0                    0.3   \n",
      "6344162       0.5        0.00           0.0                    0.3   \n",
      "9957347       0.5        3.75           0.0                    0.3   \n",
      "...           ...         ...           ...                    ...   \n",
      "34152693      0.5        0.00           0.0                    0.3   \n",
      "34154509      0.5        0.00           0.0                    0.3   \n",
      "35619548      0.5        0.00           0.0                    0.3   \n",
      "36622419      0.5        0.00           0.0                    0.3   \n",
      "37491795      0.5        0.00           0.0                    1.0   \n",
      "\n",
      "          total_amount  congestion_surcharge  airport_fee  trip_duration  \n",
      "1808947          20.80                   2.5          0.0       -3442.40  \n",
      "2391883          31.60                   2.5          0.0      -71759.93  \n",
      "6286552          50.00                   0.0          0.0          -0.02  \n",
      "6344162          32.00                   0.0          0.0          -0.02  \n",
      "9957347          22.55                   2.5          0.0       -1416.33  \n",
      "...                ...                   ...          ...            ...  \n",
      "34152693         34.00                   0.0          0.0          -5.08  \n",
      "34154509         43.00                   0.0          0.0         -25.98  \n",
      "35619548         24.00                   0.0          0.0          -0.43  \n",
      "36622419         25.00                   0.0          0.0         -19.78  \n",
      "37491795         26.00                   0.0          0.0          -2.55  \n",
      "\n",
      "[679 rows x 20 columns]\n"
     ]
    }
   ],
   "source": [
    "count_negatives = (taxidf_cleaned['trip_duration'] < 0).sum()\n",
    "\n",
    "print(\"Number of negative values in column 'trip_duration':\", count_negatives)\n",
    "\n",
    "result = taxidf_cleaned.loc[taxidf_cleaned['trip_duration'] < 0]\n",
    "print(result)"
   ]
  },
  {
   "cell_type": "code",
   "execution_count": 22,
   "metadata": {
    "execution": {
     "iopub.execute_input": "2024-05-19T20:00:03.893651Z",
     "iopub.status.busy": "2024-05-19T20:00:03.893216Z",
     "iopub.status.idle": "2024-05-19T20:00:05.343692Z",
     "shell.execute_reply": "2024-05-19T20:00:05.342371Z",
     "shell.execute_reply.started": "2024-05-19T20:00:03.893611Z"
    }
   },
   "outputs": [
    {
     "name": "stdout",
     "output_type": "stream",
     "text": [
      "Number of negative values in column 'trip_duration': 0\n"
     ]
    }
   ],
   "source": [
    "taxidf_cleaned = taxidf_cleaned.loc[taxidf_cleaned['trip_duration'] > 0]\n",
    "count_negatives = (taxidf_cleaned['trip_duration'] < 0).sum()\n",
    "\n",
    "print(\"Number of negative values in column 'trip_duration':\", count_negatives)"
   ]
  },
  {
   "cell_type": "code",
   "execution_count": null,
   "metadata": {
    "execution": {
     "iopub.execute_input": "2024-05-19T00:15:58.412759Z",
     "iopub.status.busy": "2024-05-19T00:15:58.412349Z",
     "iopub.status.idle": "2024-05-19T00:16:12.765400Z",
     "shell.execute_reply": "2024-05-19T00:16:12.764237Z",
     "shell.execute_reply.started": "2024-05-19T00:15:58.412727Z"
    }
   },
   "outputs": [],
   "source": [
    "corr_matrix = taxidf_cleaned.corr()"
   ]
  },
  {
   "cell_type": "code",
   "execution_count": null,
   "metadata": {
    "execution": {
     "iopub.execute_input": "2024-05-19T00:17:09.236199Z",
     "iopub.status.busy": "2024-05-19T00:17:09.235687Z",
     "iopub.status.idle": "2024-05-19T00:17:10.674322Z",
     "shell.execute_reply": "2024-05-19T00:17:10.673001Z",
     "shell.execute_reply.started": "2024-05-19T00:17:09.236162Z"
    }
   },
   "outputs": [],
   "source": [
    "plt.figure(figsize=(10, 8))\n",
    "sns.heatmap(corr_matrix, annot=True, cmap='coolwarm', fmt=\".2f\")\n",
    "plt.title('Correlation Matrix')\n",
    "plt.show()"
   ]
  },
  {
   "cell_type": "code",
   "execution_count": null,
   "metadata": {
    "execution": {
     "iopub.execute_input": "2024-05-19T00:17:14.140243Z",
     "iopub.status.busy": "2024-05-19T00:17:14.138835Z",
     "iopub.status.idle": "2024-05-19T00:17:14.154384Z",
     "shell.execute_reply": "2024-05-19T00:17:14.152069Z",
     "shell.execute_reply.started": "2024-05-19T00:17:14.140192Z"
    }
   },
   "outputs": [],
   "source": [
    "# Example: Print highly correlated pairs\n",
    "high_corr = corr_matrix.abs().stack().sort_values(ascending=False)\n",
    "print(high_corr[high_corr != 1][:10]) # excluding self-correlations"
   ]
  },
  {
   "cell_type": "code",
   "execution_count": 23,
   "metadata": {
    "execution": {
     "iopub.execute_input": "2024-05-18T23:40:37.070013Z",
     "iopub.status.busy": "2024-05-18T23:40:37.069618Z",
     "iopub.status.idle": "2024-05-18T23:41:29.012934Z",
     "shell.execute_reply": "2024-05-18T23:41:29.011726Z",
     "shell.execute_reply.started": "2024-05-18T23:40:37.069983Z"
    }
   },
   "outputs": [
    {
     "data": {
      "image/png": "[encoded data removed]",
      "text/plain": [
       "<Figure size 432x288 with 1 Axes>"
      ]
     },
     "metadata": {
      "needs_background": "light"
     },
     "output_type": "display_data"
    }
   ],
   "source": [
    "import seaborn as sns\n",
    "\n",
    "# Assuming your DataFrame is named df and the column you want to plot is 'column_name'\n",
    "sns.histplot(taxidf_cleaned['trip_duration'], bins=10, kde=True, color='skyblue', edgecolor='black')  # Adjust bins as needed\n",
    "plt.title('Histogram of column_name')\n",
    "plt.xlabel('Value')\n",
    "plt.ylabel('Frequency')\n",
    "plt.grid(True)\n",
    "plt.show()"
   ]
  },
  {
   "cell_type": "code",
   "execution_count": 24,
   "metadata": {
    "execution": {
     "iopub.execute_input": "2024-05-18T21:53:06.775033Z",
     "iopub.status.busy": "2024-05-18T21:53:06.774655Z",
     "iopub.status.idle": "2024-05-18T21:53:09.927080Z",
     "shell.execute_reply": "2024-05-18T21:53:09.925950Z",
     "shell.execute_reply.started": "2024-05-18T21:53:06.775006Z"
    }
   },
   "outputs": [
    {
     "data": {
      "text/plain": [
       "<AxesSubplot:>"
      ]
     },
     "execution_count": 24,
     "metadata": {},
     "output_type": "execute_result"
    },
    {
     "data": {
      "image/png": "[encoded data removed]",
      "text/plain": [
       "<Figure size 432x288 with 1 Axes>"
      ]
     },
     "metadata": {
      "needs_background": "light"
     },
     "output_type": "display_data"
    }
   ],
   "source": [
    "sns.boxplot(data = taxidf_cleaned['trip_duration'], orient= \"v\")"
   ]
  },
  {
   "cell_type": "code",
   "execution_count": 25,
   "metadata": {
    "execution": {
     "iopub.execute_input": "2024-05-18T21:53:12.377847Z",
     "iopub.status.busy": "2024-05-18T21:53:12.376949Z",
     "iopub.status.idle": "2024-05-18T21:53:18.188534Z",
     "shell.execute_reply": "2024-05-18T21:53:18.187452Z",
     "shell.execute_reply.started": "2024-05-18T21:53:12.377802Z"
    }
   },
   "outputs": [
    {
     "data": {
      "text/plain": [
       "<AxesSubplot:>"
      ]
     },
     "execution_count": 25,
     "metadata": {},
     "output_type": "execute_result"
    },
    {
     "data": {
      "image/png": "[encoded data removed]",
      "text/plain": [
       "<Figure size 432x288 with 1 Axes>"
      ]
     },
     "metadata": {
      "needs_background": "light"
     },
     "output_type": "display_data"
    }
   ],
   "source": [
    "sns.boxplot(data = taxidf_cleaned['trip_distance'], orient= \"v\")"
   ]
  },
  {
   "cell_type": "code",
   "execution_count": 26,
   "metadata": {
    "execution": {
     "iopub.execute_input": "2024-05-18T21:53:19.845196Z",
     "iopub.status.busy": "2024-05-18T21:53:19.844450Z",
     "iopub.status.idle": "2024-05-18T21:53:20.875441Z",
     "shell.execute_reply": "2024-05-18T21:53:20.874275Z",
     "shell.execute_reply.started": "2024-05-18T21:53:19.845159Z"
    }
   },
   "outputs": [
    {
     "name": "stdout",
     "output_type": "stream",
     "text": [
      "0\n"
     ]
    },
    {
     "data": {
      "text/plain": [
       "count    3.826921e+07\n",
       "mean     3.515862e+00\n",
       "std      5.644610e+01\n",
       "min      0.000000e+00\n",
       "25%      1.100000e+00\n",
       "50%      1.860000e+00\n",
       "75%      3.490000e+00\n",
       "max      1.843408e+05\n",
       "Name: trip_distance, dtype: float64"
      ]
     },
     "execution_count": 26,
     "metadata": {},
     "output_type": "execute_result"
    },
    {
     "data": {
      "image/png": "[encoded data removed]",
      "text/plain": [
       "<Figure size 432x288 with 1 Axes>"
      ]
     },
     "metadata": {
      "needs_background": "light"
     },
     "output_type": "display_data"
    }
   ],
   "source": [
    "import matplotlib.pyplot as plt\n",
    "\n",
    "plt.hist(taxidf_cleaned['trip_distance'], bins = 20)\n",
    "plt.title('Histogram of ' + 'trip_distance')\n",
    "\n",
    "print(taxidf_cleaned['trip_distance'].isna().sum())\n",
    "taxidf_cleaned['trip_distance'].describe()"
   ]
  },
  {
   "cell_type": "code",
   "execution_count": 27,
   "metadata": {
    "execution": {
     "iopub.execute_input": "2024-05-19T20:00:31.510771Z",
     "iopub.status.busy": "2024-05-19T20:00:31.510372Z",
     "iopub.status.idle": "2024-05-19T20:00:32.424282Z",
     "shell.execute_reply": "2024-05-19T20:00:32.423102Z",
     "shell.execute_reply.started": "2024-05-19T20:00:31.510740Z"
    }
   },
   "outputs": [
    {
     "data": {
      "image/png": "[encoded data removed]",
      "text/plain": [
       "<Figure size 432x288 with 1 Axes>"
      ]
     },
     "metadata": {
      "needs_background": "light"
     },
     "output_type": "display_data"
    },
    {
     "data": {
      "text/html": [
       "<div>\n",
       "<style scoped>\n",
       "    .dataframe tbody tr th:only-of-type {\n",
       "        vertical-align: middle;\n",
       "    }\n",
       "\n",
       "    .dataframe tbody tr th {\n",
       "        vertical-align: top;\n",
       "    }\n",
       "\n",
       "    .dataframe thead th {\n",
       "        text-align: right;\n",
       "    }\n",
       "</style>\n",
       "<table border=\"1\" class=\"dataframe\">\n",
       "  <thead>\n",
       "    <tr style=\"text-align: right;\">\n",
       "      <th></th>\n",
       "      <th>record_count</th>\n",
       "    </tr>\n",
       "    <tr>\n",
       "      <th>year</th>\n",
       "      <th></th>\n",
       "    </tr>\n",
       "  </thead>\n",
       "  <tbody>\n",
       "    <tr>\n",
       "      <th>2022</th>\n",
       "      <td>38269213</td>\n",
       "    </tr>\n",
       "  </tbody>\n",
       "</table>\n",
       "</div>"
      ],
      "text/plain": [
       "      record_count\n",
       "year              \n",
       "2022      38269213"
      ]
     },
     "execution_count": 27,
     "metadata": {},
     "output_type": "execute_result"
    }
   ],
   "source": [
    "dfAnalysis= taxidf_cleaned\n",
    "dfAnalysis['year'] = dfAnalysis['tpep_pickup_datetime'].dt.year\n",
    "\n",
    "year_counts = dfAnalysis.groupby('year').size().reset_index()\n",
    "year_counts.columns = ['year', 'record_count']\n",
    "year_counts.set_index('year', inplace=True)\n",
    "\n",
    "year_counts.plot(kind='bar')\n",
    "plt.xlabel('Year')\n",
    "plt.ylabel('Count')\n",
    "plt.title('TaxiTrip dataset row count by Year')\n",
    "plt.show()\n",
    "\n",
    "year_counts"
   ]
  },
  {
   "cell_type": "code",
   "execution_count": 29,
   "metadata": {
    "execution": {
     "iopub.execute_input": "2024-05-19T20:00:35.769383Z",
     "iopub.status.busy": "2024-05-19T20:00:35.768472Z",
     "iopub.status.idle": "2024-05-19T20:00:37.782837Z",
     "shell.execute_reply": "2024-05-19T20:00:37.781683Z",
     "shell.execute_reply.started": "2024-05-19T20:00:35.769343Z"
    },
    "scrolled": true
   },
   "outputs": [
    {
     "name": "stdout",
     "output_type": "stream",
     "text": [
      "               record_count\n",
      "month in 2020              \n",
      "January             2391379\n",
      "February            2876546\n",
      "March               3508768\n",
      "April               3479575\n",
      "May                 3457124\n",
      "June                3423685\n",
      "July                3067553\n",
      "August              3058036\n",
      "September           3065635\n",
      "October             3540579\n",
      "November            3128747\n",
      "December            3271586\n"
     ]
    },
    {
     "data": {
      "image/png": "[encoded data removed]",
      "text/plain": [
       "<Figure size 432x288 with 1 Axes>"
      ]
     },
     "metadata": {
      "needs_background": "light"
     },
     "output_type": "display_data"
    },
    {
     "data": {
      "text/html": [
       "<div>\n",
       "<style scoped>\n",
       "    .dataframe tbody tr th:only-of-type {\n",
       "        vertical-align: middle;\n",
       "    }\n",
       "\n",
       "    .dataframe tbody tr th {\n",
       "        vertical-align: top;\n",
       "    }\n",
       "\n",
       "    .dataframe thead th {\n",
       "        text-align: right;\n",
       "    }\n",
       "</style>\n",
       "<table border=\"1\" class=\"dataframe\">\n",
       "  <thead>\n",
       "    <tr style=\"text-align: right;\">\n",
       "      <th></th>\n",
       "      <th>record_count</th>\n",
       "    </tr>\n",
       "    <tr>\n",
       "      <th>month in 2020</th>\n",
       "      <th></th>\n",
       "    </tr>\n",
       "  </thead>\n",
       "  <tbody>\n",
       "    <tr>\n",
       "      <th>January</th>\n",
       "      <td>2391379</td>\n",
       "    </tr>\n",
       "    <tr>\n",
       "      <th>February</th>\n",
       "      <td>2876546</td>\n",
       "    </tr>\n",
       "    <tr>\n",
       "      <th>March</th>\n",
       "      <td>3508768</td>\n",
       "    </tr>\n",
       "    <tr>\n",
       "      <th>April</th>\n",
       "      <td>3479575</td>\n",
       "    </tr>\n",
       "    <tr>\n",
       "      <th>May</th>\n",
       "      <td>3457124</td>\n",
       "    </tr>\n",
       "    <tr>\n",
       "      <th>June</th>\n",
       "      <td>3423685</td>\n",
       "    </tr>\n",
       "    <tr>\n",
       "      <th>July</th>\n",
       "      <td>3067553</td>\n",
       "    </tr>\n",
       "    <tr>\n",
       "      <th>August</th>\n",
       "      <td>3058036</td>\n",
       "    </tr>\n",
       "    <tr>\n",
       "      <th>September</th>\n",
       "      <td>3065635</td>\n",
       "    </tr>\n",
       "    <tr>\n",
       "      <th>October</th>\n",
       "      <td>3540579</td>\n",
       "    </tr>\n",
       "    <tr>\n",
       "      <th>November</th>\n",
       "      <td>3128747</td>\n",
       "    </tr>\n",
       "    <tr>\n",
       "      <th>December</th>\n",
       "      <td>3271586</td>\n",
       "    </tr>\n",
       "  </tbody>\n",
       "</table>\n",
       "</div>"
      ],
      "text/plain": [
       "               record_count\n",
       "month in 2020              \n",
       "January             2391379\n",
       "February            2876546\n",
       "March               3508768\n",
       "April               3479575\n",
       "May                 3457124\n",
       "June                3423685\n",
       "July                3067553\n",
       "August              3058036\n",
       "September           3065635\n",
       "October             3540579\n",
       "November            3128747\n",
       "December            3271586"
      ]
     },
     "execution_count": 29,
     "metadata": {},
     "output_type": "execute_result"
    }
   ],
   "source": [
    "subdf = dfAnalysis[dfAnalysis['year'] == 2022]\n",
    "subdf['month'] = subdf['tpep_pickup_datetime'].dt.month\n",
    "\n",
    "monthCt = subdf.groupby('month').size().reset_index()\n",
    "monthCt.columns = ['month in 2020', 'record_count']\n",
    "month_names = {1: 'January', 2: 'February', 3: 'March', 4: 'April',\n",
    "               5: 'May', 6: 'June', 7: 'July', 8: 'August',\n",
    "               9: 'September', 10: 'October', 11: 'November', 12: 'December'}\n",
    "\n",
    "monthCt['month in 2020'] = monthCt['month in 2020'].map(month_names)\n",
    "monthCt.set_index('month in 2020', inplace=True)\n",
    "\n",
    "print(monthCt)\n",
    "\n",
    "monthCt.plot(kind='bar')\n",
    "plt.xlabel('Year')\n",
    "plt.ylabel('Count')\n",
    "plt.title('TaxiTrip dataset row count by month in year 2020')\n",
    "plt.show()\n",
    "\n",
    "monthCt"
   ]
  },
  {
   "cell_type": "code",
   "execution_count": 30,
   "metadata": {
    "execution": {
     "iopub.execute_input": "2024-05-19T20:00:47.103063Z",
     "iopub.status.busy": "2024-05-19T20:00:47.102658Z",
     "iopub.status.idle": "2024-05-19T20:00:48.772718Z",
     "shell.execute_reply": "2024-05-19T20:00:48.771493Z",
     "shell.execute_reply.started": "2024-05-19T20:00:47.103027Z"
    }
   },
   "outputs": [
    {
     "data": {
      "text/plain": [
       "(38269213, 25)"
      ]
     },
     "execution_count": 30,
     "metadata": {},
     "output_type": "execute_result"
    }
   ],
   "source": [
    "finaldf = subdf\n",
    "finaldf['day'] = finaldf['tpep_pickup_datetime'].dt.day\n",
    "finaldf['dow'] = finaldf['tpep_pickup_datetime'].dt.dayofweek\n",
    "\n",
    "# Mapping dictionary\n",
    "day_mapping = {\n",
    "    0: 'Mo',\n",
    "    1: 'Tu',\n",
    "    2: 'We',\n",
    "    3: 'Th',\n",
    "    4: 'Fr',\n",
    "    5: 'Sa',\n",
    "    6: 'Su'\n",
    "}\n",
    "\n",
    "finaldf['dowtext'] = finaldf['dow'].map(day_mapping)\n",
    "\n",
    "finaldf.shape"
   ]
  },
  {
   "cell_type": "code",
   "execution_count": 36,
   "metadata": {},
   "outputs": [
    {
     "name": "stdout",
     "output_type": "stream",
     "text": [
      "Max and Min daily trip counts for each month in 2020:\n",
      "        month     max    min    mean\n",
      "0     January   97795  29993   77141\n",
      "1    February  118549  83739  102734\n",
      "2       March  125079  92702  113186\n",
      "3       April  130450  93522  115986\n",
      "4         May  128369  80544  111520\n",
      "5        June  128006  88719  114123\n",
      "6        July  114951  61939   98953\n",
      "7      August  110736  82314   98646\n",
      "8   September  123143     60  102188\n",
      "9     October  127897  92444  114212\n",
      "10   November  127777  65833  104292\n",
      "11   December  129705  48372  105535\n"
     ]
    },
    {
     "data": {
      "image/png": "[encoded data removed]",
      "text/plain": [
       "<Figure size 720x432 with 1 Axes>"
      ]
     },
     "metadata": {
      "needs_background": "light"
     },
     "output_type": "display_data"
    },
    {
     "name": "stdout",
     "output_type": "stream",
     "text": [
      "        month     max    min    mean\n",
      "0     January   97795  29993   77141\n",
      "1    February  118549  83739  102734\n",
      "2       March  125079  92702  113186\n",
      "3       April  130450  93522  115986\n",
      "4         May  128369  80544  111520\n",
      "5        June  128006  88719  114123\n",
      "6        July  114951  61939   98953\n",
      "7      August  110736  82314   98646\n",
      "8   September  123143     60  102188\n",
      "9     October  127897  92444  114212\n",
      "10   November  127777  65833  104292\n",
      "11   December  129705  48372  105535\n"
     ]
    }
   ],
   "source": [
    "# Group by month and day, then count the records for each day\n",
    "daily_counts = finaldf.groupby(['month', 'day']).size().reset_index(name='daily_trip_count')\n",
    "\n",
    "# Find the max and min daily trip count for each month\n",
    "monthly_stats = daily_counts.groupby('month')['daily_trip_count'].agg(['max', 'min', 'mean']).reset_index()\n",
    "\n",
    "# Round the average daily trip counts to integers\n",
    "monthly_stats['mean'] = monthly_stats['mean'].round().astype(int)\n",
    "\n",
    "# Map month numbers to month names\n",
    "month_names = {1: 'January', 2: 'February', 3: 'March', 4: 'April',\n",
    "               5: 'May', 6: 'June', 7: 'July', 8: 'August',\n",
    "               9: 'September', 10: 'October', 11: 'November', 12: 'December'}\n",
    "\n",
    "monthly_stats['month'] = monthly_stats['month'].map(month_names)\n",
    "# Print the max and min daily trip counts for each month\n",
    "print(\"Max and Min daily trip counts for each month in 2020:\")\n",
    "print(monthly_stats)\n",
    "\n",
    "# Plot the results\n",
    "plt.figure(figsize=(10, 6))\n",
    "plt.bar(monthly_stats['month'], monthly_stats['max'], color='blue', alpha=0.6, label='Max Daily Count')\n",
    "plt.bar(monthly_stats['month'], monthly_stats['mean'], color='black', alpha=0.6, label='Average Daily Count')\n",
    "plt.bar(monthly_stats['month'], monthly_stats['min'], color='red', alpha=0.6, label='Min Daily Count')\n",
    "\n",
    "plt.xlabel('Month')\n",
    "plt.ylabel('Count')\n",
    "plt.title('Max and Min Taxi Trip Counts by Month in 2020')\n",
    "plt.legend()\n",
    "plt.xticks(rotation=45)\n",
    "plt.show()\n",
    "\n",
    "# Print the DataFrame for inspection\n",
    "print(monthly_stats)"
   ]
  },
  {
   "cell_type": "code",
   "execution_count": 38,
   "metadata": {},
   "outputs": [
    {
     "data": {
      "image/png": "[encoded data removed]",
      "text/plain": [
       "<Figure size 720x432 with 1 Axes>"
      ]
     },
     "metadata": {
      "needs_background": "light"
     },
     "output_type": "display_data"
    },
    {
     "name": "stdout",
     "output_type": "stream",
     "text": [
      "        month     max    min    mean\n",
      "0     January   97795  29993   77141\n",
      "1    February  118549  83739  102734\n",
      "2       March  125079  92702  113186\n",
      "3       April  130450  93522  115986\n",
      "4         May  128369  80544  111520\n",
      "5        June  128006  88719  114123\n",
      "6        July  114951  61939   98953\n",
      "7      August  110736  82314   98646\n",
      "8   September  123143     60  102188\n",
      "9     October  127897  92444  114212\n",
      "10   November  127777  65833  104292\n",
      "11   December  129705  48372  105535\n"
     ]
    }
   ],
   "source": [
    " # Plot the results\n",
    "plt.figure(figsize=(10, 6))\n",
    "\n",
    "# Plot max counts\n",
    "plt.plot(monthly_stats['month'], monthly_stats['max'], marker='o', linestyle='-', color='blue', label='Max Daily Count')\n",
    "\n",
    "# Plot min counts\n",
    "plt.plot(monthly_stats['month'], monthly_stats['min'], marker='o', linestyle='-', color='red', label='Min Daily Count')\n",
    "\n",
    "# Plot average counts\n",
    "plt.plot(monthly_stats['month'], monthly_stats['mean'], marker='o', linestyle='-', color='green', label='Average Daily Count')\n",
    "\n",
    "plt.xlabel('Month')\n",
    "plt.ylabel('Count')\n",
    "plt.title('Max, Min, and Average Taxi Trip Counts by Month in 2020')\n",
    "plt.legend()\n",
    "plt.xticks(rotation=45)\n",
    "plt.grid(True)\n",
    "plt.show()\n",
    "\n",
    "# Print the DataFrame for inspection\n",
    "print(monthly_stats)"
   ]
  },
  {
   "cell_type": "code",
   "execution_count": null,
   "metadata": {
    "execution": {
     "iopub.execute_input": "2024-05-19T20:00:52.776419Z",
     "iopub.status.busy": "2024-05-19T20:00:52.776027Z",
     "iopub.status.idle": "2024-05-19T20:00:58.310342Z",
     "shell.execute_reply": "2024-05-19T20:00:58.308901Z",
     "shell.execute_reply.started": "2024-05-19T20:00:52.776390Z"
    }
   },
   "outputs": [],
   "source": [
    "mdf1 = finaldf[finaldf['month'] == 1]\n",
    "mdf2 = finaldf[finaldf['month'] == 2]\n",
    "\n",
    "mdf1['day'] = mdf1['tpep_pickup_datetime'].dt.day\n",
    "mdf1['dow'] = mdf1['tpep_pickup_datetime'].dt.dayofweek\n",
    "mdf2['day'] = mdf2['tpep_pickup_datetime'].dt.day\n",
    "mdf2['dow'] = mdf2['tpep_pickup_datetime'].dt.dayofweek\n",
    "mdf2 = mdf2[mdf2['day'] != 27] # dropped this column due to less records\n",
    "\n",
    "# Mapping dictionary\n",
    "day_mapping = {\n",
    "    0: 'Mo',\n",
    "    1: 'Tu',\n",
    "    2: 'We',\n",
    "    3: 'Th',\n",
    "    4: 'Fr',\n",
    "    5: 'Sa',\n",
    "    6: 'Su'\n",
    "}\n",
    "\n",
    "# Apply mapping\n",
    "mdf1['dowtext'] = mdf1['dow'].map(day_mapping)\n",
    "mdf2['dowtext'] = mdf2['dow'].map(day_mapping)\n",
    "\n",
    "dayCt1 = mdf1.groupby(['day','dowtext']).size().reset_index(name='count')\n",
    "print(\"Month 1 day count:\")\n",
    "print(dayCt1)\n",
    "\n",
    "dayCt2 = mdf2.groupby(['day','dowtext']).size().reset_index(name='count')\n",
    "print(\"Month 2 day count:\")\n",
    "print(dayCt2)"
   ]
  },
  {
   "cell_type": "code",
   "execution_count": null,
   "metadata": {
    "execution": {
     "iopub.execute_input": "2024-05-19T20:01:02.206780Z",
     "iopub.status.busy": "2024-05-19T20:01:02.206345Z",
     "iopub.status.idle": "2024-05-19T20:02:43.177854Z",
     "shell.execute_reply": "2024-05-19T20:02:43.176450Z",
     "shell.execute_reply.started": "2024-05-19T20:01:02.206746Z"
    }
   },
   "outputs": [],
   "source": [
    "finaldf['month_day'] = finaldf['tpep_pickup_datetime'].dt.strftime('%m/%d')\n",
    "finaldf['dow'] = finaldf['tpep_pickup_datetime'].dt.dayofweek\n",
    "\n",
    "finaldf['dowtext'] = finaldf['dow'].map(day_mapping)\n",
    "\n",
    "janfebDayCt = finaldf.groupby(['month_day','dowtext']).size().reset_index(name='count')\n",
    "print(\"Month day count:\")\n",
    "print(janfebDayCt)\n"
   ]
  },
  {
   "cell_type": "code",
   "execution_count": null,
   "metadata": {
    "execution": {
     "iopub.execute_input": "2024-05-19T20:03:27.257644Z",
     "iopub.status.busy": "2024-05-19T20:03:27.257237Z",
     "iopub.status.idle": "2024-05-19T20:03:27.623732Z",
     "shell.execute_reply": "2024-05-19T20:03:27.622351Z",
     "shell.execute_reply.started": "2024-05-19T20:03:27.257615Z"
    }
   },
   "outputs": [],
   "source": [
    "# Filter the DataFrame to include only rows with 'group_column2' values in included_values\n",
    "filtered_df = janfebDayCt[janfebDayCt['dowtext'].isin(['Sa','Su'])]\n",
    "print(filtered_df)\n",
    "\n",
    "# Pivot the DataFrame to make group_column2 as columns\n",
    "pivot1 = filtered_df.pivot(index='month_day', columns='dowtext', values='count')\n",
    "\n",
    "# Plot the line graph\n",
    "pivot1.plot(kind='line', marker='o', legend=True)\n",
    "\n",
    "# Add labels and title\n",
    "plt.xlabel('Jan & Feb month data by day of the week, Sat and Sun')\n",
    "plt.ylabel('Record Count')\n",
    "plt.title('Line Graph with Grouped Data')\n",
    "\n",
    "# Show the plot\n",
    "#plt.legend(title='Group Column 2')\n",
    "plt.grid(True)\n",
    "plt.show()"
   ]
  },
  {
   "cell_type": "code",
   "execution_count": null,
   "metadata": {
    "execution": {
     "iopub.execute_input": "2024-05-19T05:09:51.223611Z",
     "iopub.status.busy": "2024-05-19T05:09:51.223216Z",
     "iopub.status.idle": "2024-05-19T05:09:51.411738Z",
     "shell.execute_reply": "2024-05-19T05:09:51.410457Z",
     "shell.execute_reply.started": "2024-05-19T05:09:51.223582Z"
    }
   },
   "outputs": [],
   "source": [
    "# Filter the DataFrame to include only rows with 'group_column2' values in included_values\n",
    "filtered_df = dayCt1[dayCt1['dowtext'].isin(['Sa','Su'])]\n",
    "print(filtered_df)\n",
    "# Group by two columns and calculate the count\n",
    "grouped_data = filtered_df.groupby(['day', 'dowtext']).size().reset_index(name='count')\n",
    "\n",
    "# Pivot the DataFrame to make group_column2 as columns\n",
    "pivot_data = grouped_data.pivot(index='day', columns='dowtext', values='count')\n",
    "\n",
    "# Plot the bar graph\n",
    "ax = pivot_data.plot(kind='bar', legend=False)\n",
    "\n",
    "# Add labels and title\n",
    "plt.xlabel('X Axis Label')\n",
    "plt.ylabel('Count')\n",
    "plt.title('Bar Graph with Grouped Data')\n",
    "\n",
    "# Set y-axis ticks to display actual count values\n",
    "max_count = pivot_data.max().max()  # Find the maximum count value\n",
    "ax.set_yticks(range(int(max_count) + 1))  # Convert max_count to integer\n",
    "ax.set_yticklabels(range(int(max_count) + 1))\n",
    "\n",
    "# Show the plot\n",
    "plt.grid(True)\n",
    "plt.show()"
   ]
  },
  {
   "cell_type": "code",
   "execution_count": null,
   "metadata": {
    "execution": {
     "iopub.execute_input": "2024-05-19T05:09:58.113317Z",
     "iopub.status.busy": "2024-05-19T05:09:58.112537Z",
     "iopub.status.idle": "2024-05-19T05:09:58.780821Z",
     "shell.execute_reply": "2024-05-19T05:09:58.779438Z",
     "shell.execute_reply.started": "2024-05-19T05:09:58.113279Z"
    }
   },
   "outputs": [],
   "source": [
    "#label encoding\n",
    "from sklearn.preprocessing import LabelEncoder, MinMaxScaler\n",
    "le = LabelEncoder()\n",
    "finaldf['store_and_fwd_flag'] = le.fit_transform(finaldf[['store_and_fwd_flag']])"
   ]
  },
  {
   "cell_type": "code",
   "execution_count": 39,
   "metadata": {
    "execution": {
     "iopub.execute_input": "2024-05-19T05:10:03.422043Z",
     "iopub.status.busy": "2024-05-19T05:10:03.421633Z",
     "iopub.status.idle": "2024-05-19T05:10:03.461704Z",
     "shell.execute_reply": "2024-05-19T05:10:03.460466Z",
     "shell.execute_reply.started": "2024-05-19T05:10:03.422010Z"
    }
   },
   "outputs": [
    {
     "data": {
      "text/html": [
       "<div>\n",
       "<style scoped>\n",
       "    .dataframe tbody tr th:only-of-type {\n",
       "        vertical-align: middle;\n",
       "    }\n",
       "\n",
       "    .dataframe tbody tr th {\n",
       "        vertical-align: top;\n",
       "    }\n",
       "\n",
       "    .dataframe thead th {\n",
       "        text-align: right;\n",
       "    }\n",
       "</style>\n",
       "<table border=\"1\" class=\"dataframe\">\n",
       "  <thead>\n",
       "    <tr style=\"text-align: right;\">\n",
       "      <th></th>\n",
       "      <th>tpep_pickup_datetime</th>\n",
       "      <th>VendorID</th>\n",
       "      <th>tpep_dropoff_datetime</th>\n",
       "      <th>passenger_count</th>\n",
       "      <th>trip_distance</th>\n",
       "      <th>RatecodeID</th>\n",
       "      <th>store_and_fwd_flag</th>\n",
       "      <th>PULocationID</th>\n",
       "      <th>DOLocationID</th>\n",
       "      <th>payment_type</th>\n",
       "      <th>...</th>\n",
       "      <th>improvement_surcharge</th>\n",
       "      <th>total_amount</th>\n",
       "      <th>congestion_surcharge</th>\n",
       "      <th>airport_fee</th>\n",
       "      <th>trip_duration</th>\n",
       "      <th>year</th>\n",
       "      <th>month</th>\n",
       "      <th>day</th>\n",
       "      <th>dow</th>\n",
       "      <th>dowtext</th>\n",
       "    </tr>\n",
       "  </thead>\n",
       "  <tbody>\n",
       "    <tr>\n",
       "      <th>0</th>\n",
       "      <td>2022-01-01 00:00:08</td>\n",
       "      <td>2</td>\n",
       "      <td>2022-01-01 00:14:14</td>\n",
       "      <td>1.0</td>\n",
       "      <td>7.94</td>\n",
       "      <td>1.0</td>\n",
       "      <td>0</td>\n",
       "      <td>138</td>\n",
       "      <td>255</td>\n",
       "      <td>1</td>\n",
       "      <td>...</td>\n",
       "      <td>0.3</td>\n",
       "      <td>30.41</td>\n",
       "      <td>0.0</td>\n",
       "      <td>1.25</td>\n",
       "      <td>14.10</td>\n",
       "      <td>2022</td>\n",
       "      <td>1</td>\n",
       "      <td>1</td>\n",
       "      <td>5</td>\n",
       "      <td>Sa</td>\n",
       "    </tr>\n",
       "    <tr>\n",
       "      <th>1</th>\n",
       "      <td>2022-01-01 00:00:11</td>\n",
       "      <td>2</td>\n",
       "      <td>2022-01-01 00:14:29</td>\n",
       "      <td>1.0</td>\n",
       "      <td>5.55</td>\n",
       "      <td>1.0</td>\n",
       "      <td>0</td>\n",
       "      <td>132</td>\n",
       "      <td>215</td>\n",
       "      <td>2</td>\n",
       "      <td>...</td>\n",
       "      <td>0.3</td>\n",
       "      <td>20.05</td>\n",
       "      <td>0.0</td>\n",
       "      <td>1.25</td>\n",
       "      <td>14.30</td>\n",
       "      <td>2022</td>\n",
       "      <td>1</td>\n",
       "      <td>1</td>\n",
       "      <td>5</td>\n",
       "      <td>Sa</td>\n",
       "    </tr>\n",
       "    <tr>\n",
       "      <th>2</th>\n",
       "      <td>2022-01-01 00:00:17</td>\n",
       "      <td>2</td>\n",
       "      <td>2022-01-01 00:31:04</td>\n",
       "      <td>1.0</td>\n",
       "      <td>3.86</td>\n",
       "      <td>1.0</td>\n",
       "      <td>0</td>\n",
       "      <td>170</td>\n",
       "      <td>68</td>\n",
       "      <td>1</td>\n",
       "      <td>...</td>\n",
       "      <td>0.3</td>\n",
       "      <td>28.56</td>\n",
       "      <td>2.5</td>\n",
       "      <td>0.00</td>\n",
       "      <td>30.78</td>\n",
       "      <td>2022</td>\n",
       "      <td>1</td>\n",
       "      <td>1</td>\n",
       "      <td>5</td>\n",
       "      <td>Sa</td>\n",
       "    </tr>\n",
       "    <tr>\n",
       "      <th>3</th>\n",
       "      <td>2022-01-01 00:00:18</td>\n",
       "      <td>2</td>\n",
       "      <td>2022-01-01 00:13:27</td>\n",
       "      <td>1.0</td>\n",
       "      <td>3.37</td>\n",
       "      <td>1.0</td>\n",
       "      <td>0</td>\n",
       "      <td>79</td>\n",
       "      <td>209</td>\n",
       "      <td>1</td>\n",
       "      <td>...</td>\n",
       "      <td>0.3</td>\n",
       "      <td>20.16</td>\n",
       "      <td>2.5</td>\n",
       "      <td>0.00</td>\n",
       "      <td>13.15</td>\n",
       "      <td>2022</td>\n",
       "      <td>1</td>\n",
       "      <td>1</td>\n",
       "      <td>5</td>\n",
       "      <td>Sa</td>\n",
       "    </tr>\n",
       "    <tr>\n",
       "      <th>4</th>\n",
       "      <td>2022-01-01 00:00:20</td>\n",
       "      <td>2</td>\n",
       "      <td>2022-01-01 00:20:51</td>\n",
       "      <td>1.0</td>\n",
       "      <td>4.89</td>\n",
       "      <td>1.0</td>\n",
       "      <td>0</td>\n",
       "      <td>68</td>\n",
       "      <td>256</td>\n",
       "      <td>1</td>\n",
       "      <td>...</td>\n",
       "      <td>0.3</td>\n",
       "      <td>28.34</td>\n",
       "      <td>2.5</td>\n",
       "      <td>0.00</td>\n",
       "      <td>20.52</td>\n",
       "      <td>2022</td>\n",
       "      <td>1</td>\n",
       "      <td>1</td>\n",
       "      <td>5</td>\n",
       "      <td>Sa</td>\n",
       "    </tr>\n",
       "    <tr>\n",
       "      <th>5</th>\n",
       "      <td>2022-01-01 00:00:23</td>\n",
       "      <td>1</td>\n",
       "      <td>2022-01-01 00:24:06</td>\n",
       "      <td>1.0</td>\n",
       "      <td>19.10</td>\n",
       "      <td>2.0</td>\n",
       "      <td>0</td>\n",
       "      <td>132</td>\n",
       "      <td>236</td>\n",
       "      <td>1</td>\n",
       "      <td>...</td>\n",
       "      <td>0.3</td>\n",
       "      <td>75.72</td>\n",
       "      <td>2.5</td>\n",
       "      <td>1.25</td>\n",
       "      <td>23.72</td>\n",
       "      <td>2022</td>\n",
       "      <td>1</td>\n",
       "      <td>1</td>\n",
       "      <td>5</td>\n",
       "      <td>Sa</td>\n",
       "    </tr>\n",
       "    <tr>\n",
       "      <th>6</th>\n",
       "      <td>2022-01-01 00:00:29</td>\n",
       "      <td>2</td>\n",
       "      <td>2022-01-01 00:06:52</td>\n",
       "      <td>2.0</td>\n",
       "      <td>1.46</td>\n",
       "      <td>1.0</td>\n",
       "      <td>0</td>\n",
       "      <td>238</td>\n",
       "      <td>263</td>\n",
       "      <td>2</td>\n",
       "      <td>...</td>\n",
       "      <td>0.3</td>\n",
       "      <td>10.80</td>\n",
       "      <td>2.5</td>\n",
       "      <td>0.00</td>\n",
       "      <td>6.38</td>\n",
       "      <td>2022</td>\n",
       "      <td>1</td>\n",
       "      <td>1</td>\n",
       "      <td>5</td>\n",
       "      <td>Sa</td>\n",
       "    </tr>\n",
       "    <tr>\n",
       "      <th>7</th>\n",
       "      <td>2022-01-01 00:00:30</td>\n",
       "      <td>2</td>\n",
       "      <td>2022-01-01 00:10:18</td>\n",
       "      <td>1.0</td>\n",
       "      <td>5.05</td>\n",
       "      <td>1.0</td>\n",
       "      <td>0</td>\n",
       "      <td>132</td>\n",
       "      <td>216</td>\n",
       "      <td>2</td>\n",
       "      <td>...</td>\n",
       "      <td>0.3</td>\n",
       "      <td>18.05</td>\n",
       "      <td>0.0</td>\n",
       "      <td>1.25</td>\n",
       "      <td>9.80</td>\n",
       "      <td>2022</td>\n",
       "      <td>1</td>\n",
       "      <td>1</td>\n",
       "      <td>5</td>\n",
       "      <td>Sa</td>\n",
       "    </tr>\n",
       "    <tr>\n",
       "      <th>8</th>\n",
       "      <td>2022-01-01 00:00:30</td>\n",
       "      <td>2</td>\n",
       "      <td>2022-01-01 00:20:31</td>\n",
       "      <td>1.0</td>\n",
       "      <td>5.05</td>\n",
       "      <td>1.0</td>\n",
       "      <td>0</td>\n",
       "      <td>170</td>\n",
       "      <td>166</td>\n",
       "      <td>1</td>\n",
       "      <td>...</td>\n",
       "      <td>0.3</td>\n",
       "      <td>27.36</td>\n",
       "      <td>2.5</td>\n",
       "      <td>0.00</td>\n",
       "      <td>20.02</td>\n",
       "      <td>2022</td>\n",
       "      <td>1</td>\n",
       "      <td>1</td>\n",
       "      <td>5</td>\n",
       "      <td>Sa</td>\n",
       "    </tr>\n",
       "    <tr>\n",
       "      <th>9</th>\n",
       "      <td>2022-01-01 00:00:44</td>\n",
       "      <td>2</td>\n",
       "      <td>2022-01-01 00:08:54</td>\n",
       "      <td>1.0</td>\n",
       "      <td>2.17</td>\n",
       "      <td>1.0</td>\n",
       "      <td>0</td>\n",
       "      <td>263</td>\n",
       "      <td>233</td>\n",
       "      <td>1</td>\n",
       "      <td>...</td>\n",
       "      <td>0.3</td>\n",
       "      <td>14.76</td>\n",
       "      <td>2.5</td>\n",
       "      <td>0.00</td>\n",
       "      <td>8.17</td>\n",
       "      <td>2022</td>\n",
       "      <td>1</td>\n",
       "      <td>1</td>\n",
       "      <td>5</td>\n",
       "      <td>Sa</td>\n",
       "    </tr>\n",
       "  </tbody>\n",
       "</table>\n",
       "<p>10 rows × 25 columns</p>\n",
       "</div>"
      ],
      "text/plain": [
       "  tpep_pickup_datetime  VendorID tpep_dropoff_datetime  passenger_count  \\\n",
       "0  2022-01-01 00:00:08         2   2022-01-01 00:14:14              1.0   \n",
       "1  2022-01-01 00:00:11         2   2022-01-01 00:14:29              1.0   \n",
       "2  2022-01-01 00:00:17         2   2022-01-01 00:31:04              1.0   \n",
       "3  2022-01-01 00:00:18         2   2022-01-01 00:13:27              1.0   \n",
       "4  2022-01-01 00:00:20         2   2022-01-01 00:20:51              1.0   \n",
       "5  2022-01-01 00:00:23         1   2022-01-01 00:24:06              1.0   \n",
       "6  2022-01-01 00:00:29         2   2022-01-01 00:06:52              2.0   \n",
       "7  2022-01-01 00:00:30         2   2022-01-01 00:10:18              1.0   \n",
       "8  2022-01-01 00:00:30         2   2022-01-01 00:20:31              1.0   \n",
       "9  2022-01-01 00:00:44         2   2022-01-01 00:08:54              1.0   \n",
       "\n",
       "   trip_distance  RatecodeID  store_and_fwd_flag  PULocationID  DOLocationID  \\\n",
       "0           7.94         1.0                   0           138           255   \n",
       "1           5.55         1.0                   0           132           215   \n",
       "2           3.86         1.0                   0           170            68   \n",
       "3           3.37         1.0                   0            79           209   \n",
       "4           4.89         1.0                   0            68           256   \n",
       "5          19.10         2.0                   0           132           236   \n",
       "6           1.46         1.0                   0           238           263   \n",
       "7           5.05         1.0                   0           132           216   \n",
       "8           5.05         1.0                   0           170           166   \n",
       "9           2.17         1.0                   0           263           233   \n",
       "\n",
       "   payment_type  ...  improvement_surcharge  total_amount  \\\n",
       "0             1  ...                    0.3         30.41   \n",
       "1             2  ...                    0.3         20.05   \n",
       "2             1  ...                    0.3         28.56   \n",
       "3             1  ...                    0.3         20.16   \n",
       "4             1  ...                    0.3         28.34   \n",
       "5             1  ...                    0.3         75.72   \n",
       "6             2  ...                    0.3         10.80   \n",
       "7             2  ...                    0.3         18.05   \n",
       "8             1  ...                    0.3         27.36   \n",
       "9             1  ...                    0.3         14.76   \n",
       "\n",
       "   congestion_surcharge  airport_fee  trip_duration  year  month  day  dow  \\\n",
       "0                   0.0         1.25          14.10  2022      1    1    5   \n",
       "1                   0.0         1.25          14.30  2022      1    1    5   \n",
       "2                   2.5         0.00          30.78  2022      1    1    5   \n",
       "3                   2.5         0.00          13.15  2022      1    1    5   \n",
       "4                   2.5         0.00          20.52  2022      1    1    5   \n",
       "5                   2.5         1.25          23.72  2022      1    1    5   \n",
       "6                   2.5         0.00           6.38  2022      1    1    5   \n",
       "7                   0.0         1.25           9.80  2022      1    1    5   \n",
       "8                   2.5         0.00          20.02  2022      1    1    5   \n",
       "9                   2.5         0.00           8.17  2022      1    1    5   \n",
       "\n",
       "   dowtext  \n",
       "0       Sa  \n",
       "1       Sa  \n",
       "2       Sa  \n",
       "3       Sa  \n",
       "4       Sa  \n",
       "5       Sa  \n",
       "6       Sa  \n",
       "7       Sa  \n",
       "8       Sa  \n",
       "9       Sa  \n",
       "\n",
       "[10 rows x 25 columns]"
      ]
     },
     "execution_count": 39,
     "metadata": {},
     "output_type": "execute_result"
    }
   ],
   "source": [
    "finaldf.head(10)"
   ]
  },
  {
   "cell_type": "code",
   "execution_count": null,
   "metadata": {
    "execution": {
     "iopub.execute_input": "2024-05-19T20:05:39.831822Z",
     "iopub.status.busy": "2024-05-19T20:05:39.831394Z",
     "iopub.status.idle": "2024-05-19T20:05:41.163976Z",
     "shell.execute_reply": "2024-05-19T20:05:41.162876Z",
     "shell.execute_reply.started": "2024-05-19T20:05:39.831790Z"
    }
   },
   "outputs": [],
   "source": [
    "# Columns to exclude\n",
    "columns_to_exclude = ['month_day','dowtext']\n",
    "\n",
    "# Create a new DataFrame excluding the specified columns\n",
    "finaldf1 = finaldf.drop(columns=columns_to_exclude)"
   ]
  },
  {
   "cell_type": "code",
   "execution_count": null,
   "metadata": {
    "execution": {
     "iopub.execute_input": "2024-05-19T00:23:58.118129Z",
     "iopub.status.busy": "2024-05-19T00:23:58.117007Z",
     "iopub.status.idle": "2024-05-19T00:24:15.767113Z",
     "shell.execute_reply": "2024-05-19T00:24:15.765916Z",
     "shell.execute_reply.started": "2024-05-19T00:23:58.118094Z"
    }
   },
   "outputs": [],
   "source": [
    "corr_matrix = finaldf1.corr()"
   ]
  },
  {
   "cell_type": "code",
   "execution_count": null,
   "metadata": {
    "execution": {
     "iopub.execute_input": "2024-05-19T00:25:18.256013Z",
     "iopub.status.busy": "2024-05-19T00:25:18.255393Z",
     "iopub.status.idle": "2024-05-19T00:25:19.722404Z",
     "shell.execute_reply": "2024-05-19T00:25:19.721485Z",
     "shell.execute_reply.started": "2024-05-19T00:25:18.255972Z"
    }
   },
   "outputs": [],
   "source": [
    "plt.figure(figsize=(10, 8))\n",
    "sns.heatmap(corr_matrix, annot=True, cmap='coolwarm', fmt=\".2f\")\n",
    "plt.title('Correlation Matrix')\n",
    "plt.show()"
   ]
  },
  {
   "cell_type": "code",
   "execution_count": null,
   "metadata": {
    "execution": {
     "iopub.execute_input": "2024-05-19T00:25:27.151977Z",
     "iopub.status.busy": "2024-05-19T00:25:27.151577Z",
     "iopub.status.idle": "2024-05-19T00:25:27.163481Z",
     "shell.execute_reply": "2024-05-19T00:25:27.161845Z",
     "shell.execute_reply.started": "2024-05-19T00:25:27.151945Z"
    }
   },
   "outputs": [],
   "source": [
    "# Example: Print highly correlated pairs\n",
    "high_corr = corr_matrix.abs().stack().sort_values(ascending=False)\n",
    "print(high_corr[high_corr != 1][:10]) # excluding self-correlations"
   ]
  },
  {
   "cell_type": "code",
   "execution_count": 41,
   "metadata": {
    "execution": {
     "iopub.execute_input": "2024-05-19T00:25:39.212884Z",
     "iopub.status.busy": "2024-05-19T00:25:39.211682Z",
     "iopub.status.idle": "2024-05-19T00:26:31.970377Z",
     "shell.execute_reply": "2024-05-19T00:26:31.969492Z",
     "shell.execute_reply.started": "2024-05-19T00:25:39.212779Z"
    }
   },
   "outputs": [
    {
     "data": {
      "image/png": "[encoded data removed]",
      "text/plain": [
       "<Figure size 432x288 with 1 Axes>"
      ]
     },
     "metadata": {
      "needs_background": "light"
     },
     "output_type": "display_data"
    }
   ],
   "source": [
    "import seaborn as sns\n",
    "\n",
    "sns.histplot(finaldf['trip_distance'], bins=10, kde=True, color='skyblue', edgecolor='black')  # Adjust bins as needed\n",
    "plt.title('Histogram of column_name')\n",
    "plt.xlabel('Value')\n",
    "plt.ylabel('Frequency')\n",
    "plt.grid(True)\n",
    "plt.show()"
   ]
  },
  {
   "cell_type": "code",
   "execution_count": 42,
   "metadata": {
    "execution": {
     "iopub.execute_input": "2024-05-19T00:26:56.734358Z",
     "iopub.status.busy": "2024-05-19T00:26:56.733756Z",
     "iopub.status.idle": "2024-05-19T00:26:57.880325Z",
     "shell.execute_reply": "2024-05-19T00:26:57.879285Z",
     "shell.execute_reply.started": "2024-05-19T00:26:56.734323Z"
    }
   },
   "outputs": [
    {
     "name": "stdout",
     "output_type": "stream",
     "text": [
      "0\n"
     ]
    },
    {
     "data": {
      "text/plain": [
       "count    3.826921e+07\n",
       "mean     3.515862e+00\n",
       "std      5.644610e+01\n",
       "min      0.000000e+00\n",
       "25%      1.100000e+00\n",
       "50%      1.860000e+00\n",
       "75%      3.490000e+00\n",
       "max      1.843408e+05\n",
       "Name: trip_distance, dtype: float64"
      ]
     },
     "execution_count": 42,
     "metadata": {},
     "output_type": "execute_result"
    },
    {
     "data": {
      "image/png": "[encoded data removed]",
      "text/plain": [
       "<Figure size 432x288 with 1 Axes>"
      ]
     },
     "metadata": {
      "needs_background": "light"
     },
     "output_type": "display_data"
    }
   ],
   "source": [
    "plt.hist(finaldf['trip_distance'], bins = 20)\n",
    "plt.title('Histogram of ' + 'trip_distance')\n",
    "\n",
    "print(finaldf['trip_distance'].isna().sum())\n",
    "finaldf['trip_distance'].describe()"
   ]
  },
  {
   "cell_type": "code",
   "execution_count": 43,
   "metadata": {
    "execution": {
     "iopub.execute_input": "2024-05-19T01:37:11.268650Z",
     "iopub.status.busy": "2024-05-19T01:37:11.268215Z",
     "iopub.status.idle": "2024-05-19T01:37:14.912131Z",
     "shell.execute_reply": "2024-05-19T01:37:14.910710Z",
     "shell.execute_reply.started": "2024-05-19T01:37:11.268616Z"
    }
   },
   "outputs": [
    {
     "data": {
      "image/png": "[encoded data removed]",
      "text/plain": [
       "<Figure size 432x288 with 1 Axes>"
      ]
     },
     "metadata": {
      "needs_background": "light"
     },
     "output_type": "display_data"
    },
    {
     "name": "stdout",
     "output_type": "stream",
     "text": [
      "count   38269213.00\n",
      "mean           3.52\n",
      "std           56.45\n",
      "min            0.00\n",
      "25%            1.10\n",
      "50%            1.86\n",
      "75%            3.49\n",
      "max       184340.80\n",
      "Name: trip_distance, dtype: float64\n"
     ]
    }
   ],
   "source": [
    "import numpy as np\n",
    "import matplotlib.pyplot as plt\n",
    "\n",
    "# Calculate the number of bins based on the bin width and the range of data\n",
    "bin_width = 3  # Specify the desired bin width\n",
    "data_min = min(finaldf['trip_distance'])\n",
    "data_max = max(finaldf['trip_distance'])\n",
    "num_bins = int((data_max - data_min) / bin_width)\n",
    "\n",
    "# Create the histogram with specified bin width\n",
    "plt.hist(finaldf['trip_distance'], bins=num_bins, color='skyblue', edgecolor='black')  \n",
    "# Set x-axis limits\n",
    "plt.xlim(-10, 33)\n",
    "# Set x-axis ticks (optional, to ensure only 0 to 50 is displayed clearly)\n",
    "plt.xticks(np.arange(-10, 33, 2))\n",
    "plt.title('Histogram with Specified Bin Width of 3')\n",
    "plt.xlabel('Value')\n",
    "plt.ylabel('Frequency')\n",
    "plt.grid(True)\n",
    "plt.show()\n",
    "# Set print options to suppress scientific notation\n",
    "pd.set_option('display.float_format', lambda x: '%.2f' % x)\n",
    "print(finaldf['trip_distance'].describe())"
   ]
  },
  {
   "cell_type": "code",
   "execution_count": 44,
   "metadata": {
    "execution": {
     "iopub.execute_input": "2024-05-19T01:58:01.232788Z",
     "iopub.status.busy": "2024-05-19T01:58:01.232301Z",
     "iopub.status.idle": "2024-05-19T01:58:01.278453Z",
     "shell.execute_reply": "2024-05-19T01:58:01.277303Z",
     "shell.execute_reply.started": "2024-05-19T01:58:01.232752Z"
    }
   },
   "outputs": [
    {
     "name": "stdout",
     "output_type": "stream",
     "text": [
      "Number of negative values in column 'A': 0\n",
      "Series([], Name: trip_distance, dtype: float64)\n"
     ]
    }
   ],
   "source": [
    "# Count negative values in column trip_distance\n",
    "count_negatives = (finaldf['trip_distance'] < 0).sum()\n",
    "\n",
    "print(\"Number of negative values in column 'A':\", count_negatives)\n",
    "\n",
    "result = finaldf.loc[finaldf['trip_distance'] < 0, 'trip_distance']\n",
    "print(result)"
   ]
  },
  {
   "cell_type": "code",
   "execution_count": 45,
   "metadata": {
    "execution": {
     "iopub.execute_input": "2024-05-19T01:46:48.732223Z",
     "iopub.status.busy": "2024-05-19T01:46:48.731733Z",
     "iopub.status.idle": "2024-05-19T01:46:49.411946Z",
     "shell.execute_reply": "2024-05-19T01:46:49.410651Z",
     "shell.execute_reply.started": "2024-05-19T01:46:48.732176Z"
    }
   },
   "outputs": [
    {
     "name": "stdout",
     "output_type": "stream",
     "text": [
      "count   38269213.00\n",
      "mean           3.52\n",
      "std           56.45\n",
      "min            0.00\n",
      "25%            1.10\n",
      "50%            1.86\n",
      "75%            3.49\n",
      "max       184340.80\n",
      "Name: trip_distance_abs, dtype: float64\n"
     ]
    }
   ],
   "source": [
    "finaldf['trip_distance_abs'] = finaldf['trip_distance'].abs()\n",
    "pd.set_option('display.float_format', lambda x: '%.2f' % x)\n",
    "print(finaldf['trip_distance_abs'].describe())"
   ]
  },
  {
   "cell_type": "code",
   "execution_count": 46,
   "metadata": {
    "execution": {
     "iopub.execute_input": "2024-05-19T01:47:27.589872Z",
     "iopub.status.busy": "2024-05-19T01:47:27.589508Z",
     "iopub.status.idle": "2024-05-19T01:47:31.017184Z",
     "shell.execute_reply": "2024-05-19T01:47:31.015992Z",
     "shell.execute_reply.started": "2024-05-19T01:47:27.589840Z"
    }
   },
   "outputs": [
    {
     "data": {
      "image/png": "[encoded data removed]",
      "text/plain": [
       "<Figure size 432x288 with 1 Axes>"
      ]
     },
     "metadata": {
      "needs_background": "light"
     },
     "output_type": "display_data"
    }
   ],
   "source": [
    "# Calculate the number of bins based on the bin width and the range of data\n",
    "bin_width = 3  # Specify the desired bin width\n",
    "data_min = min(finaldf['trip_distance_abs'])\n",
    "data_max = max(finaldf['trip_distance_abs'])\n",
    "num_bins = int((data_max - data_min) / bin_width)\n",
    "\n",
    "# Create the histogram with specified bin width\n",
    "plt.hist(finaldf['trip_distance_abs'], bins=num_bins, color='skyblue', edgecolor='black')  \n",
    "# Set x-axis limits\n",
    "plt.xlim(-10, 33)\n",
    "# Set x-axis ticks (optional, to ensure only 0 to 50 is displayed clearly)\n",
    "plt.xticks(np.arange(-10, 33, 2))\n",
    "plt.title('Histogram with Specified Bin Width of 3')\n",
    "plt.xlabel('Value')\n",
    "plt.ylabel('Frequency')\n",
    "plt.grid(True)\n",
    "plt.show()"
   ]
  },
  {
   "cell_type": "code",
   "execution_count": 47,
   "metadata": {
    "execution": {
     "iopub.execute_input": "2024-05-19T01:29:30.177923Z",
     "iopub.status.busy": "2024-05-19T01:29:30.177450Z",
     "iopub.status.idle": "2024-05-19T01:29:36.012550Z",
     "shell.execute_reply": "2024-05-19T01:29:36.011339Z",
     "shell.execute_reply.started": "2024-05-19T01:29:30.177890Z"
    }
   },
   "outputs": [
    {
     "data": {
      "text/plain": [
       "<AxesSubplot:>"
      ]
     },
     "execution_count": 47,
     "metadata": {},
     "output_type": "execute_result"
    },
    {
     "data": {
      "image/png": "[encoded data removed]",
      "text/plain": [
       "<Figure size 432x288 with 1 Axes>"
      ]
     },
     "metadata": {
      "needs_background": "light"
     },
     "output_type": "display_data"
    }
   ],
   "source": [
    "sns.boxplot(data = finaldf['trip_distance'], orient= \"v\")"
   ]
  },
  {
   "cell_type": "code",
   "execution_count": 48,
   "metadata": {
    "execution": {
     "iopub.execute_input": "2024-05-19T01:48:40.011465Z",
     "iopub.status.busy": "2024-05-19T01:48:40.011030Z",
     "iopub.status.idle": "2024-05-19T01:48:46.129224Z",
     "shell.execute_reply": "2024-05-19T01:48:46.120631Z",
     "shell.execute_reply.started": "2024-05-19T01:48:40.011433Z"
    }
   },
   "outputs": [
    {
     "data": {
      "text/plain": [
       "<AxesSubplot:>"
      ]
     },
     "execution_count": 48,
     "metadata": {},
     "output_type": "execute_result"
    },
    {
     "data": {
      "image/png": "[encoded data removed]",
      "text/plain": [
       "<Figure size 432x288 with 1 Axes>"
      ]
     },
     "metadata": {
      "needs_background": "light"
     },
     "output_type": "display_data"
    }
   ],
   "source": [
    "sns.boxplot(data = finaldf['trip_distance_abs'], orient= \"v\")"
   ]
  },
  {
   "cell_type": "code",
   "execution_count": 50,
   "metadata": {
    "execution": {
     "iopub.execute_input": "2024-05-19T20:26:46.307171Z",
     "iopub.status.busy": "2024-05-19T20:26:46.306546Z",
     "iopub.status.idle": "2024-05-19T20:29:36.015402Z",
     "shell.execute_reply": "2024-05-19T20:29:36.013895Z",
     "shell.execute_reply.started": "2024-05-19T20:26:46.307102Z"
    }
   },
   "outputs": [
    {
     "data": {
      "image/png": "[encoded data removed]",
      "text/plain": [
       "<Figure size 432x288 with 1 Axes>"
      ]
     },
     "metadata": {
      "needs_background": "light"
     },
     "output_type": "display_data"
    },
    {
     "name": "stdout",
     "output_type": "stream",
     "text": [
      "count   38269213.00\n",
      "mean          17.22\n",
      "std           49.09\n",
      "min            0.02\n",
      "25%            7.35\n",
      "50%           12.13\n",
      "75%           19.67\n",
      "max         9747.05\n",
      "Name: trip_duration, dtype: float64\n",
      "Bin edges: [   0.02          0.09311771    0.16623543 ... 9746.90376457 9746.97688229\n",
      " 9747.05      ]\n",
      "Counts per bin: [110114. 104814.  73410. ...      0.      0.      1.]\n"
     ]
    }
   ],
   "source": [
    "import numpy as np\n",
    "import matplotlib.pyplot as plt\n",
    "\n",
    "# Calculate the number of bins based on the bin width and the range of data\n",
    "bin_width = 10  # Specify the desired bin width\n",
    "data_min = min(finaldf['trip_duration'])\n",
    "data_max = max(finaldf['trip_duration'])\n",
    "num_bins = int((data_max - data_min) / bin_width)\n",
    "\n",
    "# Create the histogram with specified bin width\n",
    "#plt.hist(finaldf1['trip_duration'], bins=num_bins, color='skyblue', edgecolor='black') \n",
    "# Create histogram and capture the bin edges\n",
    "counts, bin_edges, _ = plt.hist(finaldf['trip_duration'], bins='auto', color='skyblue', edgecolor='black') \n",
    "\n",
    "# Set x-axis limits\n",
    "plt.xlim(0, 110)\n",
    "# Set x-axis ticks (optional, to ensure only 0 to 50 is displayed clearly)\n",
    "plt.xticks(np.arange(0, 111, 10))\n",
    "#plt.title('Histogram with Specified Bin Width')\n",
    "plt.title('B - Histogram for trip_duration')\n",
    "#plt.xlabel('Value')\n",
    "#plt.ylabel('Frequency')\n",
    "plt.grid(True)\n",
    "plt.show()\n",
    "np.set_printoptions(suppress=True)\n",
    "# Set print options to suppress scientific notation\n",
    "pd.set_option('display.float_format', lambda x: '%.2f' % x)\n",
    "print(finaldf['trip_duration'].describe())\n",
    "\n",
    "# Print the bin edges\n",
    "print(\"Bin edges:\", bin_edges)\n",
    "print(\"Counts per bin:\", counts)"
   ]
  },
  {
   "cell_type": "code",
   "execution_count": 61,
   "metadata": {
    "execution": {
     "iopub.execute_input": "2024-05-19T20:30:30.015000Z",
     "iopub.status.busy": "2024-05-19T20:30:30.014556Z",
     "iopub.status.idle": "2024-05-19T20:33:18.958946Z",
     "shell.execute_reply": "2024-05-19T20:33:18.957479Z",
     "shell.execute_reply.started": "2024-05-19T20:30:30.014967Z"
    }
   },
   "outputs": [
    {
     "data": {
      "image/png": "[encoded data removed]",
      "text/plain": [
       "<Figure size 432x288 with 1 Axes>"
      ]
     },
     "metadata": {
      "needs_background": "light"
     },
     "output_type": "display_data"
    }
   ],
   "source": [
    "import numpy as np\n",
    "import matplotlib.pyplot as plt\n",
    "\n",
    "# Calculate the number of bins based on the bin width and the range of data\n",
    "bin_width = 10  # Specify the desired bin width\n",
    "data_min = min(finaldf['trip_duration'])\n",
    "data_max = max(finaldf['trip_duration'])\n",
    "num_bins = int((data_max - data_min) / bin_width)\n",
    "\n",
    "# Create the histogram with specified bin width\n",
    "#plt.hist(finaldf1['trip_duration'], bins=num_bins, color='skyblue', edgecolor='black') \n",
    "# Create histogram and capture the bin edges\n",
    "counts, bin_edges, _ = plt.hist(finaldf['trip_duration'], bins='auto', color='skyblue', edgecolor='red') \n",
    "\n",
    "plt.title('A - Histogram for trip_duration')\n",
    "plt.grid(True)\n",
    "plt.show()"
   ]
  },
  {
   "cell_type": "code",
   "execution_count": 52,
   "metadata": {
    "execution": {
     "iopub.execute_input": "2024-05-19T05:24:20.054409Z",
     "iopub.status.busy": "2024-05-19T05:24:20.053832Z",
     "iopub.status.idle": "2024-05-19T05:24:35.449332Z",
     "shell.execute_reply": "2024-05-19T05:24:35.448083Z",
     "shell.execute_reply.started": "2024-05-19T05:24:20.054353Z"
    }
   },
   "outputs": [
    {
     "data": {
      "image/png": "[encoded data removed]",
      "text/plain": [
       "<Figure size 432x288 with 1 Axes>"
      ]
     },
     "metadata": {
      "needs_background": "light"
     },
     "output_type": "display_data"
    }
   ],
   "source": [
    "# Create an ECDF plot\n",
    "sns.ecdfplot(finaldf['trip_duration'])\n",
    "plt.xlabel('Value')\n",
    "plt.ylabel('ECDF')\n",
    "plt.title('ECDF Plot')\n",
    "plt.show()"
   ]
  },
  {
   "cell_type": "code",
   "execution_count": 53,
   "metadata": {
    "execution": {
     "iopub.execute_input": "2024-05-19T05:31:44.870940Z",
     "iopub.status.busy": "2024-05-19T05:31:44.870491Z",
     "iopub.status.idle": "2024-05-19T05:32:37.870388Z",
     "shell.execute_reply": "2024-05-19T05:32:37.869222Z",
     "shell.execute_reply.started": "2024-05-19T05:31:44.870902Z"
    }
   },
   "outputs": [
    {
     "data": {
      "image/png": "[encoded data removed]",
      "text/plain": [
       "<Figure size 432x288 with 1 Axes>"
      ]
     },
     "metadata": {
      "needs_background": "light"
     },
     "output_type": "display_data"
    }
   ],
   "source": [
    "# Create a KDE plot\n",
    "sns.kdeplot(finaldf['trip_duration'], bw_adjust=1.0)\n",
    "plt.xlabel('Value')\n",
    "plt.ylabel('Density')\n",
    "plt.title('KDE Plot')\n",
    "plt.show()"
   ]
  },
  {
   "cell_type": "code",
   "execution_count": 54,
   "metadata": {
    "execution": {
     "iopub.execute_input": "2024-05-19T05:11:13.811998Z",
     "iopub.status.busy": "2024-05-19T05:11:13.811563Z",
     "iopub.status.idle": "2024-05-19T05:11:17.582636Z",
     "shell.execute_reply": "2024-05-19T05:11:17.581361Z",
     "shell.execute_reply.started": "2024-05-19T05:11:13.811965Z"
    }
   },
   "outputs": [
    {
     "name": "stdout",
     "output_type": "stream",
     "text": [
      "count   38269213.00\n",
      "mean          17.22\n",
      "std           49.09\n",
      "min            0.02\n",
      "25%            7.35\n",
      "50%           12.13\n",
      "75%           19.67\n",
      "max         9747.05\n",
      "Name: trip_duration, dtype: float64\n",
      "count   38269213.00\n",
      "mean          17.22\n",
      "std           49.09\n",
      "min            0.02\n",
      "25%            7.35\n",
      "50%           12.13\n",
      "75%           19.67\n",
      "max         9747.05\n",
      "Name: trip_duration, dtype: float64\n"
     ]
    }
   ],
   "source": [
    "finaldf_nonZ = finaldf[finaldf['trip_duration'] != 0]\n",
    "pd.set_option('display.float_format', lambda x: '%.2f' % x)\n",
    "print(finaldf_nonZ['trip_duration'].describe())\n",
    "\n",
    "print(finaldf['trip_duration'].describe())"
   ]
  },
  {
   "cell_type": "code",
   "execution_count": 55,
   "metadata": {
    "execution": {
     "iopub.execute_input": "2024-05-19T05:12:00.059169Z",
     "iopub.status.busy": "2024-05-19T05:12:00.058723Z",
     "iopub.status.idle": "2024-05-19T05:12:03.133915Z",
     "shell.execute_reply": "2024-05-19T05:12:03.132760Z",
     "shell.execute_reply.started": "2024-05-19T05:12:00.059140Z"
    }
   },
   "outputs": [
    {
     "data": {
      "text/plain": [
       "<AxesSubplot:>"
      ]
     },
     "execution_count": 55,
     "metadata": {},
     "output_type": "execute_result"
    },
    {
     "data": {
      "image/png": "[encoded data removed]",
      "text/plain": [
       "<Figure size 432x288 with 1 Axes>"
      ]
     },
     "metadata": {
      "needs_background": "light"
     },
     "output_type": "display_data"
    }
   ],
   "source": [
    "sns.boxplot(data = finaldf['trip_duration'], orient= \"v\")"
   ]
  },
  {
   "cell_type": "code",
   "execution_count": 56,
   "metadata": {
    "execution": {
     "iopub.execute_input": "2024-05-19T05:12:24.572901Z",
     "iopub.status.busy": "2024-05-19T05:12:24.572486Z",
     "iopub.status.idle": "2024-05-19T05:12:24.603980Z",
     "shell.execute_reply": "2024-05-19T05:12:24.602713Z",
     "shell.execute_reply.started": "2024-05-19T05:12:24.572868Z"
    }
   },
   "outputs": [
    {
     "name": "stdout",
     "output_type": "stream",
     "text": [
      "Number of zero values in column 'trip_duration': 0\n"
     ]
    }
   ],
   "source": [
    "# Count negative values in column trip_distance\n",
    "count_zeros = (finaldf['trip_duration'] == 0).sum()\n",
    "\n",
    "print(\"Number of zero values in column 'trip_duration':\", count_zeros)\n",
    "\n",
    "#result1 = finaldf1.loc[finaldf1['trip_duration'] < 0, 'trip_duration']\n",
    "#print(result1)"
   ]
  },
  {
   "cell_type": "code",
   "execution_count": 58,
   "metadata": {
    "execution": {
     "iopub.execute_input": "2024-05-19T05:12:28.407415Z",
     "iopub.status.busy": "2024-05-19T05:12:28.406984Z",
     "iopub.status.idle": "2024-05-19T05:12:28.993252Z",
     "shell.execute_reply": "2024-05-19T05:12:28.991935Z",
     "shell.execute_reply.started": "2024-05-19T05:12:28.407357Z"
    }
   },
   "outputs": [
    {
     "name": "stdout",
     "output_type": "stream",
     "text": [
      "count   38269213.00\n",
      "mean          17.22\n",
      "std           49.09\n",
      "min            0.02\n",
      "25%            7.35\n",
      "50%           12.13\n",
      "75%           19.67\n",
      "max         9747.05\n",
      "Name: trip_duration, dtype: float64\n"
     ]
    },
    {
     "data": {
      "text/html": [
       "<div>\n",
       "<style scoped>\n",
       "    .dataframe tbody tr th:only-of-type {\n",
       "        vertical-align: middle;\n",
       "    }\n",
       "\n",
       "    .dataframe tbody tr th {\n",
       "        vertical-align: top;\n",
       "    }\n",
       "\n",
       "    .dataframe thead th {\n",
       "        text-align: right;\n",
       "    }\n",
       "</style>\n",
       "<table border=\"1\" class=\"dataframe\">\n",
       "  <thead>\n",
       "    <tr style=\"text-align: right;\">\n",
       "      <th></th>\n",
       "      <th>tpep_pickup_datetime</th>\n",
       "      <th>VendorID</th>\n",
       "      <th>tpep_dropoff_datetime</th>\n",
       "      <th>passenger_count</th>\n",
       "      <th>trip_distance</th>\n",
       "      <th>RatecodeID</th>\n",
       "      <th>store_and_fwd_flag</th>\n",
       "      <th>PULocationID</th>\n",
       "      <th>DOLocationID</th>\n",
       "      <th>payment_type</th>\n",
       "      <th>...</th>\n",
       "      <th>total_amount</th>\n",
       "      <th>congestion_surcharge</th>\n",
       "      <th>airport_fee</th>\n",
       "      <th>trip_duration</th>\n",
       "      <th>year</th>\n",
       "      <th>month</th>\n",
       "      <th>day</th>\n",
       "      <th>dow</th>\n",
       "      <th>dowtext</th>\n",
       "      <th>trip_distance_abs</th>\n",
       "    </tr>\n",
       "  </thead>\n",
       "  <tbody>\n",
       "    <tr>\n",
       "      <th>0</th>\n",
       "      <td>2022-01-01 00:00:08</td>\n",
       "      <td>2</td>\n",
       "      <td>2022-01-01 00:14:14</td>\n",
       "      <td>1.00</td>\n",
       "      <td>7.94</td>\n",
       "      <td>1.00</td>\n",
       "      <td>0</td>\n",
       "      <td>138</td>\n",
       "      <td>255</td>\n",
       "      <td>1</td>\n",
       "      <td>...</td>\n",
       "      <td>30.41</td>\n",
       "      <td>0.00</td>\n",
       "      <td>1.25</td>\n",
       "      <td>14.10</td>\n",
       "      <td>2022</td>\n",
       "      <td>1</td>\n",
       "      <td>1</td>\n",
       "      <td>5</td>\n",
       "      <td>Sa</td>\n",
       "      <td>7.94</td>\n",
       "    </tr>\n",
       "    <tr>\n",
       "      <th>1</th>\n",
       "      <td>2022-01-01 00:00:11</td>\n",
       "      <td>2</td>\n",
       "      <td>2022-01-01 00:14:29</td>\n",
       "      <td>1.00</td>\n",
       "      <td>5.55</td>\n",
       "      <td>1.00</td>\n",
       "      <td>0</td>\n",
       "      <td>132</td>\n",
       "      <td>215</td>\n",
       "      <td>2</td>\n",
       "      <td>...</td>\n",
       "      <td>20.05</td>\n",
       "      <td>0.00</td>\n",
       "      <td>1.25</td>\n",
       "      <td>14.30</td>\n",
       "      <td>2022</td>\n",
       "      <td>1</td>\n",
       "      <td>1</td>\n",
       "      <td>5</td>\n",
       "      <td>Sa</td>\n",
       "      <td>5.55</td>\n",
       "    </tr>\n",
       "    <tr>\n",
       "      <th>2</th>\n",
       "      <td>2022-01-01 00:00:17</td>\n",
       "      <td>2</td>\n",
       "      <td>2022-01-01 00:31:04</td>\n",
       "      <td>1.00</td>\n",
       "      <td>3.86</td>\n",
       "      <td>1.00</td>\n",
       "      <td>0</td>\n",
       "      <td>170</td>\n",
       "      <td>68</td>\n",
       "      <td>1</td>\n",
       "      <td>...</td>\n",
       "      <td>28.56</td>\n",
       "      <td>2.50</td>\n",
       "      <td>0.00</td>\n",
       "      <td>30.78</td>\n",
       "      <td>2022</td>\n",
       "      <td>1</td>\n",
       "      <td>1</td>\n",
       "      <td>5</td>\n",
       "      <td>Sa</td>\n",
       "      <td>3.86</td>\n",
       "    </tr>\n",
       "    <tr>\n",
       "      <th>3</th>\n",
       "      <td>2022-01-01 00:00:18</td>\n",
       "      <td>2</td>\n",
       "      <td>2022-01-01 00:13:27</td>\n",
       "      <td>1.00</td>\n",
       "      <td>3.37</td>\n",
       "      <td>1.00</td>\n",
       "      <td>0</td>\n",
       "      <td>79</td>\n",
       "      <td>209</td>\n",
       "      <td>1</td>\n",
       "      <td>...</td>\n",
       "      <td>20.16</td>\n",
       "      <td>2.50</td>\n",
       "      <td>0.00</td>\n",
       "      <td>13.15</td>\n",
       "      <td>2022</td>\n",
       "      <td>1</td>\n",
       "      <td>1</td>\n",
       "      <td>5</td>\n",
       "      <td>Sa</td>\n",
       "      <td>3.37</td>\n",
       "    </tr>\n",
       "    <tr>\n",
       "      <th>4</th>\n",
       "      <td>2022-01-01 00:00:20</td>\n",
       "      <td>2</td>\n",
       "      <td>2022-01-01 00:20:51</td>\n",
       "      <td>1.00</td>\n",
       "      <td>4.89</td>\n",
       "      <td>1.00</td>\n",
       "      <td>0</td>\n",
       "      <td>68</td>\n",
       "      <td>256</td>\n",
       "      <td>1</td>\n",
       "      <td>...</td>\n",
       "      <td>28.34</td>\n",
       "      <td>2.50</td>\n",
       "      <td>0.00</td>\n",
       "      <td>20.52</td>\n",
       "      <td>2022</td>\n",
       "      <td>1</td>\n",
       "      <td>1</td>\n",
       "      <td>5</td>\n",
       "      <td>Sa</td>\n",
       "      <td>4.89</td>\n",
       "    </tr>\n",
       "    <tr>\n",
       "      <th>5</th>\n",
       "      <td>2022-01-01 00:00:23</td>\n",
       "      <td>1</td>\n",
       "      <td>2022-01-01 00:24:06</td>\n",
       "      <td>1.00</td>\n",
       "      <td>19.10</td>\n",
       "      <td>2.00</td>\n",
       "      <td>0</td>\n",
       "      <td>132</td>\n",
       "      <td>236</td>\n",
       "      <td>1</td>\n",
       "      <td>...</td>\n",
       "      <td>75.72</td>\n",
       "      <td>2.50</td>\n",
       "      <td>1.25</td>\n",
       "      <td>23.72</td>\n",
       "      <td>2022</td>\n",
       "      <td>1</td>\n",
       "      <td>1</td>\n",
       "      <td>5</td>\n",
       "      <td>Sa</td>\n",
       "      <td>19.10</td>\n",
       "    </tr>\n",
       "    <tr>\n",
       "      <th>6</th>\n",
       "      <td>2022-01-01 00:00:29</td>\n",
       "      <td>2</td>\n",
       "      <td>2022-01-01 00:06:52</td>\n",
       "      <td>2.00</td>\n",
       "      <td>1.46</td>\n",
       "      <td>1.00</td>\n",
       "      <td>0</td>\n",
       "      <td>238</td>\n",
       "      <td>263</td>\n",
       "      <td>2</td>\n",
       "      <td>...</td>\n",
       "      <td>10.80</td>\n",
       "      <td>2.50</td>\n",
       "      <td>0.00</td>\n",
       "      <td>6.38</td>\n",
       "      <td>2022</td>\n",
       "      <td>1</td>\n",
       "      <td>1</td>\n",
       "      <td>5</td>\n",
       "      <td>Sa</td>\n",
       "      <td>1.46</td>\n",
       "    </tr>\n",
       "    <tr>\n",
       "      <th>7</th>\n",
       "      <td>2022-01-01 00:00:30</td>\n",
       "      <td>2</td>\n",
       "      <td>2022-01-01 00:10:18</td>\n",
       "      <td>1.00</td>\n",
       "      <td>5.05</td>\n",
       "      <td>1.00</td>\n",
       "      <td>0</td>\n",
       "      <td>132</td>\n",
       "      <td>216</td>\n",
       "      <td>2</td>\n",
       "      <td>...</td>\n",
       "      <td>18.05</td>\n",
       "      <td>0.00</td>\n",
       "      <td>1.25</td>\n",
       "      <td>9.80</td>\n",
       "      <td>2022</td>\n",
       "      <td>1</td>\n",
       "      <td>1</td>\n",
       "      <td>5</td>\n",
       "      <td>Sa</td>\n",
       "      <td>5.05</td>\n",
       "    </tr>\n",
       "    <tr>\n",
       "      <th>8</th>\n",
       "      <td>2022-01-01 00:00:30</td>\n",
       "      <td>2</td>\n",
       "      <td>2022-01-01 00:20:31</td>\n",
       "      <td>1.00</td>\n",
       "      <td>5.05</td>\n",
       "      <td>1.00</td>\n",
       "      <td>0</td>\n",
       "      <td>170</td>\n",
       "      <td>166</td>\n",
       "      <td>1</td>\n",
       "      <td>...</td>\n",
       "      <td>27.36</td>\n",
       "      <td>2.50</td>\n",
       "      <td>0.00</td>\n",
       "      <td>20.02</td>\n",
       "      <td>2022</td>\n",
       "      <td>1</td>\n",
       "      <td>1</td>\n",
       "      <td>5</td>\n",
       "      <td>Sa</td>\n",
       "      <td>5.05</td>\n",
       "    </tr>\n",
       "    <tr>\n",
       "      <th>9</th>\n",
       "      <td>2022-01-01 00:00:44</td>\n",
       "      <td>2</td>\n",
       "      <td>2022-01-01 00:08:54</td>\n",
       "      <td>1.00</td>\n",
       "      <td>2.17</td>\n",
       "      <td>1.00</td>\n",
       "      <td>0</td>\n",
       "      <td>263</td>\n",
       "      <td>233</td>\n",
       "      <td>1</td>\n",
       "      <td>...</td>\n",
       "      <td>14.76</td>\n",
       "      <td>2.50</td>\n",
       "      <td>0.00</td>\n",
       "      <td>8.17</td>\n",
       "      <td>2022</td>\n",
       "      <td>1</td>\n",
       "      <td>1</td>\n",
       "      <td>5</td>\n",
       "      <td>Sa</td>\n",
       "      <td>2.17</td>\n",
       "    </tr>\n",
       "    <tr>\n",
       "      <th>10</th>\n",
       "      <td>2022-01-01 00:00:44</td>\n",
       "      <td>1</td>\n",
       "      <td>2022-01-01 00:05:29</td>\n",
       "      <td>1.00</td>\n",
       "      <td>0.20</td>\n",
       "      <td>1.00</td>\n",
       "      <td>0</td>\n",
       "      <td>7</td>\n",
       "      <td>7</td>\n",
       "      <td>2</td>\n",
       "      <td>...</td>\n",
       "      <td>6.30</td>\n",
       "      <td>0.00</td>\n",
       "      <td>0.00</td>\n",
       "      <td>4.75</td>\n",
       "      <td>2022</td>\n",
       "      <td>1</td>\n",
       "      <td>1</td>\n",
       "      <td>5</td>\n",
       "      <td>Sa</td>\n",
       "      <td>0.20</td>\n",
       "    </tr>\n",
       "    <tr>\n",
       "      <th>11</th>\n",
       "      <td>2022-01-01 00:00:46</td>\n",
       "      <td>2</td>\n",
       "      <td>2022-01-01 00:28:44</td>\n",
       "      <td>3.00</td>\n",
       "      <td>19.55</td>\n",
       "      <td>1.00</td>\n",
       "      <td>0</td>\n",
       "      <td>132</td>\n",
       "      <td>33</td>\n",
       "      <td>1</td>\n",
       "      <td>...</td>\n",
       "      <td>63.31</td>\n",
       "      <td>0.00</td>\n",
       "      <td>1.25</td>\n",
       "      <td>27.97</td>\n",
       "      <td>2022</td>\n",
       "      <td>1</td>\n",
       "      <td>1</td>\n",
       "      <td>5</td>\n",
       "      <td>Sa</td>\n",
       "      <td>19.55</td>\n",
       "    </tr>\n",
       "    <tr>\n",
       "      <th>12</th>\n",
       "      <td>2022-01-01 00:00:51</td>\n",
       "      <td>2</td>\n",
       "      <td>2022-01-01 00:07:30</td>\n",
       "      <td>6.00</td>\n",
       "      <td>2.24</td>\n",
       "      <td>1.00</td>\n",
       "      <td>0</td>\n",
       "      <td>79</td>\n",
       "      <td>233</td>\n",
       "      <td>2</td>\n",
       "      <td>...</td>\n",
       "      <td>11.80</td>\n",
       "      <td>2.50</td>\n",
       "      <td>0.00</td>\n",
       "      <td>6.65</td>\n",
       "      <td>2022</td>\n",
       "      <td>1</td>\n",
       "      <td>1</td>\n",
       "      <td>5</td>\n",
       "      <td>Sa</td>\n",
       "      <td>2.24</td>\n",
       "    </tr>\n",
       "    <tr>\n",
       "      <th>13</th>\n",
       "      <td>2022-01-01 00:00:52</td>\n",
       "      <td>1</td>\n",
       "      <td>2022-01-01 00:09:51</td>\n",
       "      <td>2.00</td>\n",
       "      <td>1.40</td>\n",
       "      <td>1.00</td>\n",
       "      <td>0</td>\n",
       "      <td>236</td>\n",
       "      <td>237</td>\n",
       "      <td>1</td>\n",
       "      <td>...</td>\n",
       "      <td>15.35</td>\n",
       "      <td>2.50</td>\n",
       "      <td>0.00</td>\n",
       "      <td>8.98</td>\n",
       "      <td>2022</td>\n",
       "      <td>1</td>\n",
       "      <td>1</td>\n",
       "      <td>5</td>\n",
       "      <td>Sa</td>\n",
       "      <td>1.40</td>\n",
       "    </tr>\n",
       "    <tr>\n",
       "      <th>14</th>\n",
       "      <td>2022-01-01 00:00:54</td>\n",
       "      <td>2</td>\n",
       "      <td>2022-01-01 00:11:33</td>\n",
       "      <td>4.00</td>\n",
       "      <td>4.51</td>\n",
       "      <td>1.00</td>\n",
       "      <td>0</td>\n",
       "      <td>152</td>\n",
       "      <td>48</td>\n",
       "      <td>1</td>\n",
       "      <td>...</td>\n",
       "      <td>23.16</td>\n",
       "      <td>2.50</td>\n",
       "      <td>0.00</td>\n",
       "      <td>10.65</td>\n",
       "      <td>2022</td>\n",
       "      <td>1</td>\n",
       "      <td>1</td>\n",
       "      <td>5</td>\n",
       "      <td>Sa</td>\n",
       "      <td>4.51</td>\n",
       "    </tr>\n",
       "    <tr>\n",
       "      <th>15</th>\n",
       "      <td>2022-01-01 00:01:01</td>\n",
       "      <td>2</td>\n",
       "      <td>2022-01-01 00:11:05</td>\n",
       "      <td>1.00</td>\n",
       "      <td>4.56</td>\n",
       "      <td>1.00</td>\n",
       "      <td>0</td>\n",
       "      <td>233</td>\n",
       "      <td>231</td>\n",
       "      <td>1</td>\n",
       "      <td>...</td>\n",
       "      <td>21.96</td>\n",
       "      <td>2.50</td>\n",
       "      <td>0.00</td>\n",
       "      <td>10.07</td>\n",
       "      <td>2022</td>\n",
       "      <td>1</td>\n",
       "      <td>1</td>\n",
       "      <td>5</td>\n",
       "      <td>Sa</td>\n",
       "      <td>4.56</td>\n",
       "    </tr>\n",
       "    <tr>\n",
       "      <th>16</th>\n",
       "      <td>2022-01-01 00:01:06</td>\n",
       "      <td>1</td>\n",
       "      <td>2022-01-01 00:11:43</td>\n",
       "      <td>1.00</td>\n",
       "      <td>1.70</td>\n",
       "      <td>1.00</td>\n",
       "      <td>0</td>\n",
       "      <td>239</td>\n",
       "      <td>262</td>\n",
       "      <td>1</td>\n",
       "      <td>...</td>\n",
       "      <td>15.95</td>\n",
       "      <td>2.50</td>\n",
       "      <td>0.00</td>\n",
       "      <td>10.62</td>\n",
       "      <td>2022</td>\n",
       "      <td>1</td>\n",
       "      <td>1</td>\n",
       "      <td>5</td>\n",
       "      <td>Sa</td>\n",
       "      <td>1.70</td>\n",
       "    </tr>\n",
       "    <tr>\n",
       "      <th>17</th>\n",
       "      <td>2022-01-01 00:01:11</td>\n",
       "      <td>2</td>\n",
       "      <td>2022-01-01 00:13:47</td>\n",
       "      <td>1.00</td>\n",
       "      <td>6.89</td>\n",
       "      <td>1.00</td>\n",
       "      <td>0</td>\n",
       "      <td>138</td>\n",
       "      <td>80</td>\n",
       "      <td>1</td>\n",
       "      <td>...</td>\n",
       "      <td>27.41</td>\n",
       "      <td>0.00</td>\n",
       "      <td>1.25</td>\n",
       "      <td>12.60</td>\n",
       "      <td>2022</td>\n",
       "      <td>1</td>\n",
       "      <td>1</td>\n",
       "      <td>5</td>\n",
       "      <td>Sa</td>\n",
       "      <td>6.89</td>\n",
       "    </tr>\n",
       "    <tr>\n",
       "      <th>18</th>\n",
       "      <td>2022-01-01 00:01:28</td>\n",
       "      <td>2</td>\n",
       "      <td>2022-01-01 00:20:28</td>\n",
       "      <td>1.00</td>\n",
       "      <td>7.56</td>\n",
       "      <td>1.00</td>\n",
       "      <td>0</td>\n",
       "      <td>233</td>\n",
       "      <td>80</td>\n",
       "      <td>1</td>\n",
       "      <td>...</td>\n",
       "      <td>28.30</td>\n",
       "      <td>2.50</td>\n",
       "      <td>0.00</td>\n",
       "      <td>19.00</td>\n",
       "      <td>2022</td>\n",
       "      <td>1</td>\n",
       "      <td>1</td>\n",
       "      <td>5</td>\n",
       "      <td>Sa</td>\n",
       "      <td>7.56</td>\n",
       "    </tr>\n",
       "    <tr>\n",
       "      <th>19</th>\n",
       "      <td>2022-01-01 00:01:29</td>\n",
       "      <td>2</td>\n",
       "      <td>2022-01-01 00:09:34</td>\n",
       "      <td>3.00</td>\n",
       "      <td>4.94</td>\n",
       "      <td>1.00</td>\n",
       "      <td>0</td>\n",
       "      <td>138</td>\n",
       "      <td>95</td>\n",
       "      <td>1</td>\n",
       "      <td>...</td>\n",
       "      <td>20.81</td>\n",
       "      <td>0.00</td>\n",
       "      <td>1.25</td>\n",
       "      <td>8.08</td>\n",
       "      <td>2022</td>\n",
       "      <td>1</td>\n",
       "      <td>1</td>\n",
       "      <td>5</td>\n",
       "      <td>Sa</td>\n",
       "      <td>4.94</td>\n",
       "    </tr>\n",
       "  </tbody>\n",
       "</table>\n",
       "<p>20 rows × 26 columns</p>\n",
       "</div>"
      ],
      "text/plain": [
       "   tpep_pickup_datetime  VendorID tpep_dropoff_datetime  passenger_count  \\\n",
       "0   2022-01-01 00:00:08         2   2022-01-01 00:14:14             1.00   \n",
       "1   2022-01-01 00:00:11         2   2022-01-01 00:14:29             1.00   \n",
       "2   2022-01-01 00:00:17         2   2022-01-01 00:31:04             1.00   \n",
       "3   2022-01-01 00:00:18         2   2022-01-01 00:13:27             1.00   \n",
       "4   2022-01-01 00:00:20         2   2022-01-01 00:20:51             1.00   \n",
       "5   2022-01-01 00:00:23         1   2022-01-01 00:24:06             1.00   \n",
       "6   2022-01-01 00:00:29         2   2022-01-01 00:06:52             2.00   \n",
       "7   2022-01-01 00:00:30         2   2022-01-01 00:10:18             1.00   \n",
       "8   2022-01-01 00:00:30         2   2022-01-01 00:20:31             1.00   \n",
       "9   2022-01-01 00:00:44         2   2022-01-01 00:08:54             1.00   \n",
       "10  2022-01-01 00:00:44         1   2022-01-01 00:05:29             1.00   \n",
       "11  2022-01-01 00:00:46         2   2022-01-01 00:28:44             3.00   \n",
       "12  2022-01-01 00:00:51         2   2022-01-01 00:07:30             6.00   \n",
       "13  2022-01-01 00:00:52         1   2022-01-01 00:09:51             2.00   \n",
       "14  2022-01-01 00:00:54         2   2022-01-01 00:11:33             4.00   \n",
       "15  2022-01-01 00:01:01         2   2022-01-01 00:11:05             1.00   \n",
       "16  2022-01-01 00:01:06         1   2022-01-01 00:11:43             1.00   \n",
       "17  2022-01-01 00:01:11         2   2022-01-01 00:13:47             1.00   \n",
       "18  2022-01-01 00:01:28         2   2022-01-01 00:20:28             1.00   \n",
       "19  2022-01-01 00:01:29         2   2022-01-01 00:09:34             3.00   \n",
       "\n",
       "    trip_distance  RatecodeID  store_and_fwd_flag  PULocationID  DOLocationID  \\\n",
       "0            7.94        1.00                   0           138           255   \n",
       "1            5.55        1.00                   0           132           215   \n",
       "2            3.86        1.00                   0           170            68   \n",
       "3            3.37        1.00                   0            79           209   \n",
       "4            4.89        1.00                   0            68           256   \n",
       "5           19.10        2.00                   0           132           236   \n",
       "6            1.46        1.00                   0           238           263   \n",
       "7            5.05        1.00                   0           132           216   \n",
       "8            5.05        1.00                   0           170           166   \n",
       "9            2.17        1.00                   0           263           233   \n",
       "10           0.20        1.00                   0             7             7   \n",
       "11          19.55        1.00                   0           132            33   \n",
       "12           2.24        1.00                   0            79           233   \n",
       "13           1.40        1.00                   0           236           237   \n",
       "14           4.51        1.00                   0           152            48   \n",
       "15           4.56        1.00                   0           233           231   \n",
       "16           1.70        1.00                   0           239           262   \n",
       "17           6.89        1.00                   0           138            80   \n",
       "18           7.56        1.00                   0           233            80   \n",
       "19           4.94        1.00                   0           138            95   \n",
       "\n",
       "    payment_type  ...  total_amount  congestion_surcharge  airport_fee  \\\n",
       "0              1  ...         30.41                  0.00         1.25   \n",
       "1              2  ...         20.05                  0.00         1.25   \n",
       "2              1  ...         28.56                  2.50         0.00   \n",
       "3              1  ...         20.16                  2.50         0.00   \n",
       "4              1  ...         28.34                  2.50         0.00   \n",
       "5              1  ...         75.72                  2.50         1.25   \n",
       "6              2  ...         10.80                  2.50         0.00   \n",
       "7              2  ...         18.05                  0.00         1.25   \n",
       "8              1  ...         27.36                  2.50         0.00   \n",
       "9              1  ...         14.76                  2.50         0.00   \n",
       "10             2  ...          6.30                  0.00         0.00   \n",
       "11             1  ...         63.31                  0.00         1.25   \n",
       "12             2  ...         11.80                  2.50         0.00   \n",
       "13             1  ...         15.35                  2.50         0.00   \n",
       "14             1  ...         23.16                  2.50         0.00   \n",
       "15             1  ...         21.96                  2.50         0.00   \n",
       "16             1  ...         15.95                  2.50         0.00   \n",
       "17             1  ...         27.41                  0.00         1.25   \n",
       "18             1  ...         28.30                  2.50         0.00   \n",
       "19             1  ...         20.81                  0.00         1.25   \n",
       "\n",
       "    trip_duration  year  month  day  dow  dowtext  trip_distance_abs  \n",
       "0           14.10  2022      1    1    5       Sa               7.94  \n",
       "1           14.30  2022      1    1    5       Sa               5.55  \n",
       "2           30.78  2022      1    1    5       Sa               3.86  \n",
       "3           13.15  2022      1    1    5       Sa               3.37  \n",
       "4           20.52  2022      1    1    5       Sa               4.89  \n",
       "5           23.72  2022      1    1    5       Sa              19.10  \n",
       "6            6.38  2022      1    1    5       Sa               1.46  \n",
       "7            9.80  2022      1    1    5       Sa               5.05  \n",
       "8           20.02  2022      1    1    5       Sa               5.05  \n",
       "9            8.17  2022      1    1    5       Sa               2.17  \n",
       "10           4.75  2022      1    1    5       Sa               0.20  \n",
       "11          27.97  2022      1    1    5       Sa              19.55  \n",
       "12           6.65  2022      1    1    5       Sa               2.24  \n",
       "13           8.98  2022      1    1    5       Sa               1.40  \n",
       "14          10.65  2022      1    1    5       Sa               4.51  \n",
       "15          10.07  2022      1    1    5       Sa               4.56  \n",
       "16          10.62  2022      1    1    5       Sa               1.70  \n",
       "17          12.60  2022      1    1    5       Sa               6.89  \n",
       "18          19.00  2022      1    1    5       Sa               7.56  \n",
       "19           8.08  2022      1    1    5       Sa               4.94  \n",
       "\n",
       "[20 rows x 26 columns]"
      ]
     },
     "execution_count": 58,
     "metadata": {},
     "output_type": "execute_result"
    }
   ],
   "source": [
    "# Set print options to suppress scientific notation\n",
    "pd.set_option('display.float_format', lambda x: '%.2f' % x)\n",
    "print(finaldf['trip_duration'].describe())\n",
    "\n",
    "finaldf.head(20)"
   ]
  }
 ],
 "metadata": {
  "kaggle": {
   "accelerator": "none",
   "dataSources": [
    {
     "datasetId": 4707625,
     "sourceId": 7995697,
     "sourceType": "datasetVersion"
    }
   ],
   "dockerImageVersionId": 30698,
   "isGpuEnabled": false,
   "isInternetEnabled": true,
   "language": "python",
   "sourceType": "notebook"
  },
  "kernelspec": {
   "display_name": "Python 3 (ipykernel)",
   "language": "python",
   "name": "python3"
  },
  "language_info": {
   "codemirror_mode": {
    "name": "ipython",
    "version": 3
   },
   "file_extension": ".py",
   "mimetype": "text/x-python",
   "name": "python",
   "nbconvert_exporter": "python",
   "pygments_lexer": "ipython3",
   "version": "3.9.7"
  }
 },
 "nbformat": 4,
 "nbformat_minor": 4
}
